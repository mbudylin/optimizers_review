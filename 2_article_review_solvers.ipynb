{
 "cells": [
  {
   "cell_type": "markdown",
   "id": "350ad809",
   "metadata": {
    "tags": []
   },
   "source": [
    "# Сравнение open-source солверов на примере задачи ритейла"
   ]
  },
  {
   "cell_type": "markdown",
   "id": "59601c77",
   "metadata": {},
   "source": [
    "Привет, Habr! На связи отдел аналитики данных X5 Tech.\n",
    "\n",
    "В этой статье мы продолжим говорить про оптимизаторы.\n",
    "В [предыдущей статье](https://habr.com/ru/company/X5Tech/blog/685590/) мы попытались описать\n",
    "основные типы оптимизационных задач, перечислили несколько примеров задач из области ритейла, а также сравнили\n",
    "производительности двух оптимизаторов для решения модельной задачи ценообразования на языке Python.\n",
    "\n",
    "Здесь мы сделаем краткий обзор существующих open-source решений в Python,\n",
    "затронем их различия, особенности и задачи, которые можно решать с их помощью.\n"
   ]
  },
  {
   "cell_type": "markdown",
   "id": "7d49b6fb",
   "metadata": {
    "tags": []
   },
   "source": [
    "## Обзор пакетов Python\n"
   ]
  },
  {
   "cell_type": "markdown",
   "id": "c733db56",
   "metadata": {},
   "source": [
    "Для упрощения восприятия материала, отобразим взаимосвязи тип задачи-солвер в виде схемы:\n",
    "\n",
    "<img src=\"images/solvers.png\" alt=\"drawing\" width=\"400\"/>\n",
    "\n",
    "Далее в указанном порядке будет рассматривать эти пакеты и говорить о важных, на наш взгляд,\n",
    "деталях их реализации, и иллюстрировать на примерах задач условной оптимизации.\n"
   ]
  },
  {
   "cell_type": "markdown",
   "id": "a0b67db9",
   "metadata": {},
   "source": [
    "### Scipy "
   ]
  },
  {
   "cell_type": "markdown",
   "id": "a6168b03",
   "metadata": {},
   "source": [
    "[__Scipy__](https://scipy.org/) - одна из первых библиотек в Python, знакомство с которой начинается у специалистов в области Data Science - она содержит большой набор функций для научных вычислений,\n",
    "в том числе имеет инструменты для решения оптимизационных задач, находящиеся в модуле __scipy.optimize__.\n",
    "В этом модуле находятся методы для решения задач как нелинейного программирования (__NLP__),\n",
    " так и линейного программирования (__LP__), в том числе задач смешанного целочисленного линейного программирования(__MILP__).\n"
   ]
  },
  {
   "cell_type": "markdown",
   "id": "85e3a02e-bbaf-4c75-a7b9-1eed1f9ee007",
   "metadata": {},
   "source": [
    "Среди солверов, которые поддерживают решение задач условной оптимизации (NLP) можно выделить __cobyla__, __slsqp__, __trust-constr__.\n",
    "Описание методов, ссылки на статьи и примеры применения солверов можно найти [тут](https://habr.com/ru/company/ods/blog/448054/).\n",
    "Здесь же вкратце отметим, что __сobyla__ - это метод, позволяющий производить оптимизацию функции, градиент которой неизвестен,\n",
    "т.е. по сути заниматься оптимизацией \"черного ящика\".\n",
    "Также стоит обратить внимание на то, что cobyla не поддерживает ограничения типа равенства и границы для переменных $x$,\n",
    "задаваемых через параметр bounds в функции __minimize__(из модуля scipy.optimize) - их необходимо задавать через линейные ограничения, например с помощью LinearConstraint.\n",
    "Что касается __slsqp__, __trust-constr__, то это методы уже второго порядка.\n",
    "Для увеличения устойчивости и сходимости оптимизаторов,\n",
    "функции (целевую и ограничения) необходимо привести к единичному масштабу, в противном случае решение может \"застрять\" либо в начальной точке,\n",
    "либо просто не дойти до локального оптимума."
   ]
  },
  {
   "cell_type": "markdown",
   "source": [
    "###### review\n",
    "\n",
    "1. Почему решение может застрять?\n"
   ],
   "metadata": {
    "collapsed": false
   }
  },
  {
   "cell_type": "markdown",
   "id": "5c61a8f4-43a9-40d8-8c77-c13818152e2e",
   "metadata": {},
   "source": [
    "Рассмотрим небольшой пример применения метода minimize, иллюстрирующий полезность масштабирования, основанный на постановке задачи ценообразования\n",
    "из [статьи 1](https://habr.com/ru/company/ods/blog/448054/) - максимизация выручки с сохранением текущего уровня маржи с ограниченным диапазоном изменения цены в пределах ±10% от текущей.\n",
    "Обозначения:\n",
    "\n",
    "$n$ - количество товаров\n",
    "\n",
    "$P_{0, i}$ - текущая цена,\n",
    "\n",
    "$Q_{0, i}$ - текущие продажи,\n",
    "\n",
    "$x_{i} = P_{i} / P_{0, i}$ - отношение новой цены $P_{i}$ к текущей\n",
    "\n",
    "$E_{i}$ - параметр для пересчета спроса по формуле $Q_{i}(x) = Q_{0, i} \\cdot \\exp(E \\cdot (x - 1))$\n",
    "\n",
    "$R_{i}(x_{i}) = \\sum_{i=1}^{n} P_{0, i} \\cdot x_{i} \\cdot Q_{i}(x) $ - выручка\n",
    "\n",
    "$M_{i}(x_{i}) = \\sum_{i=1}^{n} (P_{0, i} \\cdot x_{i} - C_{i})\\cdot Q_{0, i} \\cdot Q_{i}(x_i) $ - маржа,\n",
    "\n",
    "$M_{0} = \\sum_{i=1}^{n} M_{i}(x_{i}=1)$ - текущая маржа,\n",
    "\n",
    "\\begin{cases}\n",
    "\\tag{1}\n",
    "\\sum_{i=1}^{n} R_{i}(x_{i}) \\to \\max,\n",
    "\\\\\n",
    "\\sum_{i=1}^{n} M_{i}(x_{i}) \\geqslant M_{0},\n",
    "\\\\\n",
    "x_i \\in [0.9, 1.1], \\ i=1..n\\\\\n",
    "\\end{cases}"
   ]
  },
  {
   "cell_type": "code",
   "execution_count": 4,
   "id": "9c1c36e4-16d2-4f44-a578-2bd7bc7e97f2",
   "metadata": {},
   "outputs": [
    {
     "name": "stdout",
     "output_type": "stream",
     "text": [
      "Решение с масштабированием  [0.9   1.016 1.1  ] Optimization terminated successfully\n",
      "Значение функции  -29210742\n",
      "Значенте маржи 5399999.4  и M0 5400000.0\n",
      "Решение без масштабирования [1. 1. 1.] Optimization terminated successfully\n"
     ]
    }
   ],
   "source": [
    "# мини пример из постановки первой статьи\n",
    "import scipy.optimize as scopt\n",
    "import numpy as np\n",
    "\n",
    "# задаем параметры E, используемые в формуле Q = Q0 * exp(E * (x - 1))\n",
    "E = np.array([-3., -1., -0.5])\n",
    "# текущие цены\n",
    "P0 = np.array([10., 10., 10.])\n",
    "# текущие продажи\n",
    "Q0 = np.array([500000., 2000000., 300000.0])\n",
    "# себестоимость\n",
    "C = np.array([9.0, 8.0, 7.0])\n",
    "# текущая выручка\n",
    "R0 = np.sum(P0 * Q0)\n",
    "# текущая маржа\n",
    "M0 = np.sum((P0 - C) * Q0)\n",
    "\n",
    "# выручка - целевая функция, задаем возможность \"управлять\" масштабом через 'scale'\n",
    "def f_obj(x, args):\n",
    "    f = - args['scale'] * np.sum(Q0 * P0 * x * np.exp(E * (x-1.)))\n",
    "    return f\n",
    "obj = f_obj\n",
    "\n",
    "# функция для ограничения по марже, по умолчанию отмасштабиируем ограничения на текущую выручку\n",
    "def f_cons(x):\n",
    "    f = np.sum(Q0 * (P0 * x - C) * np.exp(E * (x-1.0))) / R0\n",
    "    return f\n",
    "cons = [scopt.NonlinearConstraint(f_cons, lb=M0 / R0, ub=np.inf)]\n",
    "\n",
    "# поиск новой цены производим в диапазоне 90% - 110% от текущей цены\n",
    "x_bounds = [(0.9, 1.1)] * 3\n",
    "# стартовая точка для поиска\n",
    "x0 = [1.0] * 3\n",
    "\n",
    "res_nonscaled = scopt.minimize(obj, x0, bounds=x_bounds, constraints=cons, method='slsqp', args={'scale': 1.})\n",
    "res_scaled = scopt.minimize(obj, x0, bounds=x_bounds, constraints=cons, method='slsqp', args={'scale': 1.0 / R0})\n",
    "print('Решение с масштабированием ', np.round(res_scaled['x'], 3), res_scaled['message'])\n",
    "print('Значение функции ', round(f_obj(res_scaled['x'], args={'scale': 1.0}), ))\n",
    "print('Значенте маржи', round(R0 * cons[0].fun(res_scaled['x']), 1), ' и M0', M0)\n",
    "print('Решение без масштабирования',np.round(res_nonscaled['x'], 3), res_nonscaled['message'])\n"
   ]
  },
  {
   "cell_type": "markdown",
   "id": "e0caf930-4041-4cdf-8a93-c4a7891a7cab",
   "metadata": {},
   "source": [
    "Как мы видим, в случае когда целевая функция не масштабирована, солвер даже не трогается с места - решение это стартовое значение,\n",
    "более того согласно своим внутренним критериям считает, что решение является оптимальным, хотя на деле это не так - этот момент необходимо иметь это ввиду при реализации.\n"
   ]
  },
  {
   "cell_type": "markdown",
   "source": [
    "###### review\n",
    "1. Солвер не трогается, или трогается в очень маленькой окрестности?"
   ],
   "metadata": {
    "collapsed": false
   }
  },
  {
   "cell_type": "markdown",
   "id": "5f03be14-59dd-44d2-86b4-fb173f707521",
   "metadata": {},
   "source": [
    "Для решения задач линейного программирования в подмодуле __optimize__ имеется функция [__linprog__](https://docs.scipy.org/doc/scipy/reference/generated/scipy.optimize.linprog.html#scipy.optimize.linprog),\n",
    "начиная с версии scipy==1.9.0 появилась возможность решения задачи линейного целочисленного программирования с помощью функции [__milp__](https://scipy.github.io/devdocs/reference/generated/scipy.optimize.milp.html) и __linprog__.\n",
    "В качестве солвера LP(MILP) по умолчанию использется [HiGHS](https://www.maths.ed.ac.uk/hall/HiGHS/) - в нем реализован симплекс метод(highs-ds) и метод внутренней точки(highs-ipm) - солвер автоматически выбирает один из методов, но при запуске можно самостоятельно выбрать один из них.\n"
   ]
  },
  {
   "cell_type": "markdown",
   "id": "eea974a4-4e02-4484-86e3-f233c9e1d6a6",
   "metadata": {},
   "source": [
    "Для примера рассмотрим небольшую задачку целочисленного рюкзака, где для наглядности применения метода __linprog__ используем переменные разных типов:\n",
    "\n",
    "\\begin{cases}\n",
    "\\tag{2}\n",
    "x = (x_{1}, x_{2}, x_{3}, x_{4})\n",
    "\\\\\n",
    "\\\\\n",
    "F(x) = 1 \\cdot x_{1} + 2 \\cdot x_{2} + 3 \\cdot x_{3} + 1 \\cdot x_{4} \\to \\max\n",
    "\\\\\n",
    "\\\\\n",
    "2 \\cdot x_1 + 1 \\cdot x_2 + 3 \\cdot x_3 + 1 \\cdot x_4 \\leqslant 7.5\n",
    "\\\\\n",
    "\\\\\n",
    "x_{1}, x_{3} \\in \\{0, 1\\}, x_{2} \\in \\{0, 1, 2\\}, x \\in [0.0; 0.5]\n",
    "\\end{cases}"
   ]
  },
  {
   "cell_type": "code",
   "execution_count": 5,
   "id": "ed44102b-418a-4ac5-b5ed-1125babb714e",
   "metadata": {},
   "outputs": [
    {
     "data": {
      "text/plain": [
       "           con: array([], dtype=float64)\n",
       " crossover_nit: -1\n",
       "         eqlin:  marginals: array([], dtype=float64)\n",
       "  residual: array([], dtype=float64)\n",
       "           fun: -7.0\n",
       "       ineqlin:  marginals: array([0.])\n",
       "  residual: array([0.5])\n",
       "         lower:  marginals: array([0., 0., 0., 0.])\n",
       "  residual: array([1., 1., 1., 1.])\n",
       "       message: 'Optimization terminated successfully. (HiGHS Status 7: Optimal)'\n",
       "           nit: -1\n",
       "         slack: array([0.5])\n",
       "        status: 0\n",
       "       success: True\n",
       "         upper:  marginals: array([0., 0., 0., 0.])\n",
       "  residual: array([1., 0., 0., 0.])\n",
       "             x: array([1., 1., 1., 1.])"
      ]
     },
     "execution_count": 5,
     "metadata": {},
     "output_type": "execute_result"
    }
   ],
   "source": [
    "# пример с \"рюкзаком\" у которого типы переменных различаются\n",
    "# так как задача максимизации, не забываем ставить минус\n",
    "c = -np.array([1., 2., 3., 1.])\n",
    "A_ub = np.array([[2., 1., 3., 1.]])\n",
    "b_ub = np.array([7.5])\n",
    "# проставляем индикаторы для типа переменных, 0 - непрерывное, 1 - целое число\n",
    "var_types = [1, 1, 1, 0]\n",
    "# также указываем границы, в том числе и для целочисленных переменных\n",
    "bounds = [(0, 2), (0, 1), (0, 1), (0, 1)]\n",
    "res_milp = scopt.linprog(c=c, A_ub=A_ub, b_ub=b_ub, bounds=bounds, integrality=var_types, method='highs')\n",
    "res_milp"
   ]
  },
  {
   "cell_type": "markdown",
   "id": "2abb9eb6",
   "metadata": {},
   "source": [
    "Как мы видим задача успешно решена, относительно несложным перебором, так как вариантов не так много, можно убедиться в том что это действительно оптимальное решение."
   ]
  },
  {
   "cell_type": "markdown",
   "id": "f2dd9776",
   "metadata": {},
   "source": [
    "### Pyomo"
   ]
  },
  {
   "cell_type": "markdown",
   "id": "b4519d73",
   "metadata": {},
   "source": [
    "[__Pyomo__](http://www.pyomo.org/) - пакет, который содержит ряд инструментов для формулирования, решения и анализа оптимизационных моделей.\n",
    "Главная особенность — это удобный интерфейс для структурированного формулирования оптимизационной задачи и поддержка большого количества солверов, в том числе коммерческих.\n",
    "Pyomo внутри себя преобразует сформулированную модель в формат, понятный для запускаемого солвера.\n",
    "\n",
    "Pyomo входит в проект [COIN-OR](https://www.coin-or.org/), содержащий ряд солверов, среди которых выделим два:\n",
    "\n",
    "[__Ipopt__](https://github.com/coin-or/Ipopt) - находит локальные оптимумы в задаче NLP с помощью прямо-двойственного метода внутренней точки, подробнее в оригинальной [статье](http://www.optimization-online.org/DB_HTML/2004/03/836.html).\n",
    "\n",
    "[__Cbc__](https://github.com/coin-or/Cbc) - решает задачи MILP, на базе алгоритма, сочетающем в себе метод ветвей и границ и секущих плоскостей [wiki](https://en.wikipedia.org/wiki/Branch_and_cut).\n",
    "\n",
    "Также для решения задач LP(MILP) имеется поддержка пакета [glpk](https://en.wikipedia.org/wiki/GNU_Linear_Programming_Kit).\n",
    "Отметим еще один солвер [bonmin](https://github.com/coin-or/Bonmin), который построен поверх __Cbc__ и __Ipopt__ - сочетание двух солверов, который позволяет браться за заадачи __MINLP__.\n",
    "\n",
    "Процесс построения оптимизационной модели в pyomo состоит и основных этапов: создание объекта оптимизационной модели,\n",
    "объявление переменных в этой модели, формулирование целевой функции, описание ограничений, запуск солвера, решающего задачу, рассмотрим шаги на примере задачи (1) и (2)."
   ]
  },
  {
   "cell_type": "code",
   "execution_count": 7,
   "id": "af19a720-0ed7-44e4-87e1-a0dd0a8edff8",
   "metadata": {},
   "outputs": [
    {
     "name": "stdout",
     "output_type": "stream",
     "text": [
      "[0.9, 1.016, 1.1] | obj value =  29210742.0 | constr value =  5400000.0\n"
     ]
    }
   ],
   "source": [
    "# пример аналогичный предыдущему\n",
    "# мини пример из постановки первой статьи\n",
    "import pyomo.environ as pyo\n",
    "import numpy as np\n",
    "\n",
    "# Количество товаров\n",
    "N = 3\n",
    "# задаем эластичности, используемые в формуле Q = Q0 * exp(E * (P/P0 - 1))\n",
    "E = np.array([-3., -1., -0.5])\n",
    "# текущие цены\n",
    "P0 = np.array([10., 10., 10.])\n",
    "# текущие продажи\n",
    "Q0 = np.array([500000., 2000000., 300000.0])\n",
    "# себестоимость\n",
    "C = np.array([9.0, 8.0, 7.0])\n",
    "# текущая выручка\n",
    "R0 = np.sum(P0 * Q0)\n",
    "# текущая маржа\n",
    "M0 = np.sum((P0 - C) * Q0)\n",
    "# диапазон поиска переменных\n",
    "bounds = [(0.9, 1.1)] * N\n",
    "# объявление объекта - модели \n",
    "model = pyo.ConcreteModel('model')\n",
    "# задаем переменные, в данном случае они все непрерывные, инициализиируем 1.0\n",
    "model.x = pyo.Var(range(N), domain=pyo.Reals, bounds=bounds, initialize=1)\n",
    "# объявление целевой функции и передача в модель\n",
    "obj_expr = sum(P0[i] * model.x[i] * Q0[i] * pyo.exp(E[i] * (model.x[i] - 1)) for i in model.x)\n",
    "model.obj = pyo.Objective(expr=obj_expr, sense=pyo.maximize)\n",
    "# объявление ограничения и передача в модель\n",
    "con_expr = sum((P0[i] * model.x[i] - C[i]) * Q0[i] * pyo.exp(E[i] * (model.x[i] - 1)) for i in model.x) >= M0\n",
    "model.con = pyo.Constraint(expr=con_expr)\n",
    "# запуск солвера ipopt для решения поставленной оптимизационной задачи\n",
    "solver = pyo.SolverFactory('ipopt')\n",
    "res = solver.solve(model)\n",
    "# получение ответа - результата решения задачи\n",
    "x_opt = [round(model.x[i].value, 3) for i in model.x]\n",
    "print(x_opt, '| obj value = ', round(model.obj(x_opt), 0), '| constr value = ', round(model.con(x_opt), 1))"
   ]
  },
  {
   "cell_type": "code",
   "execution_count": 8,
   "id": "a6096abb-8e98-4966-ba0a-910974a3ead8",
   "metadata": {},
   "outputs": [
    {
     "name": "stdout",
     "output_type": "stream",
     "text": [
      "[1.0, 1.0, 1.0, 1.0] ; obj value =  7.0\n"
     ]
    }
   ],
   "source": [
    "# milp пример с рюкзаком\n",
    "# пример с \"рюкзаком\" у которого типы переменных различаются\n",
    "# так как в pyomo не реализована возможность указывать в одном векторе значения разных типов\n",
    "# то необходимо из описывать отдельно и данные, соответственно, для удобства тоже\n",
    "c_i, c_c = np.array([1., 2., 3.]), np.array([1.])\n",
    "A_i, A_c = np.array([2., 1., 3.]), np.array([1.])\n",
    "b = 7.5\n",
    "# объявление объекта - модели \n",
    "model = pyo.ConcreteModel('model')\n",
    "# формирование переменных - отдельно целочисленные и непрерывные\n",
    "bounds_i = [(0, 2), (0, 1), (0, 1)]\n",
    "bounds_c = [(0, 1)]\n",
    "model.x_i = pyo.Var(range(3), domain=pyo.Integers, bounds=bounds_i)\n",
    "model.x_c = pyo.Var(range(1), domain=pyo.Reals, bounds=bounds_c)\n",
    "# объявление целевой функции и передача в модель для максимизации\n",
    "obj_expr = sum(c_i[i] * model.x_i[i] for i in model.x_i) +\\\n",
    "           sum(c_c[i] * model.x_c[i] for i in model.x_c)\n",
    "model.obj = pyo.Objective(expr=obj_expr, sense=pyo.maximize)\n",
    "# объявление\n",
    "con_expr = sum(A_i[i] * model.x_i[i] for i in model.x_i) +\\\n",
    "           sum(A_c[i] * model.x_c[i] for i in model.x_c) <= b\n",
    "model.con = pyo.Constraint(expr=con_expr)\n",
    "\n",
    "solver = pyo.SolverFactory('glpk')\n",
    "res = solver.solve(model)\n",
    "x_opt = [model.x_i[i].value for i in model.x_i] + [model.x_c[i].value for i in model.x_c]\n",
    "print(x_opt, '; obj value = ', model.obj())"
   ]
  },
  {
   "cell_type": "markdown",
   "id": "ecedb74f-58f6-48de-bbca-bd9a7b59f81c",
   "metadata": {},
   "source": [
    "Pyomo имеет подмодуль __GDP__ (Generalized Disjunctive Programming), который позволяет моделировать логические правила и задавать ограничения,\n",
    "которые должны при этом выполняться, например, в простейшем случае данный подход может быть применен когда необходимо выбрать одно из действий,\n",
    "каждое из которых описывается своей системой ограничений."
   ]
  },
  {
   "cell_type": "markdown",
   "id": "d6d5ea6c-c27d-4c0b-bb88-2a9f0a18dfbf",
   "metadata": {},
   "source": [
    "Разберем чем может быть полезен данный подход на примере следующей задачи:\n",
    "\n",
    "\\begin{cases}\n",
    "\\tag{3}\n",
    "x = (x_{1}, x_{2}, x_{3})\n",
    "\\\\\n",
    "\\\\\n",
    "F(x) = (x - 0)^2 + (x - 1)^2 + (x + 2)^2\n",
    "\\\\\n",
    "\\\\\n",
    "x_i \\in [-3; -1.5 ] \\cup \\{0\\} \\cup [ 1.5; 3] , \\ i = 1..3\n",
    "\\end{cases}\n",
    "\n",
    "Как несложно заметить, здесь в опрелении области переменных есть \"разрыв\", который тривиальным образом описать невозможно, необходимо вводить условие на то в какой из трех областей $[-3; -1.5 ], \\{0\\}, [ 1.5; 3]$ необходимо производить поиск решение.\n"
   ]
  },
  {
   "cell_type": "code",
   "execution_count": 9,
   "id": "dcd43ce7-4624-4822-b694-af7df636c99e",
   "metadata": {},
   "outputs": [
    {
     "name": "stdout",
     "output_type": "stream",
     "text": [
      "solution is [0.0, 1.5, -2.0]\n"
     ]
    }
   ],
   "source": [
    "import pyomo.environ as pyo\n",
    "from pyomo.gdp import Disjunct, Disjunction\n",
    "model = pyo.ConcreteModel('gdp_sample')\n",
    "model.x = pyo.Var(range(0, 3), domain=pyo.Reals, bounds=(-3., 3.))\n",
    "a = [0.0, 1.0, -2.0]\n",
    "obj_expr = sum((model.x[i] - a[i]) ** 2 for i in model.x)\n",
    "model.obj = pyo.Objective(expr=obj_expr, sense=pyo.minimize)\n",
    "model.djn = Disjunction(range(3))\n",
    "\n",
    "d = Disjunct()\n",
    "d.c = pyo.Constraint(rule=(0, model.x[0], 1))\n",
    "for i in range(3):\n",
    "    model.djn[i] = [model.x[i] <= -1.5, model.x[i] == 0, model.x[i] >= 1.5] \n",
    "\n",
    "    \n",
    "pyo.TransformationFactory('gdp.bigm').apply_to(model)\n",
    "solver = pyo.SolverFactory('bonmin')\n",
    "res = solver.solve(model)\n",
    "x_opt = [round(model.x[i].value, 3) for i in model.x]\n",
    "print('solution is', x_opt)\n"
   ]
  },
  {
   "cell_type": "markdown",
   "id": "2b5193f9",
   "metadata": {},
   "source": [
    "### Cvxpy"
   ]
  },
  {
   "cell_type": "markdown",
   "id": "3ddbd836",
   "metadata": {},
   "source": [
    "[__Cvxpy__](https://www.cvxpy.org/index.html) - данный пакет был реализован для решения задач [выпуклой оптимизации](convex optimization).\n",
    "\n",
    "После того как задача сформулирована, перед решением проверяется выпуклость и аффинность целевой функции и ограничений с помощью правил [DCP](https://www.cvxpy.org/tutorial/dcp/index.html)\n",
    "(disciplined convex programming). По сути это набор правил, которые однозначно гарантируют выпуклость функции, здесь стоит отметить, что эти правила - необходимые условия выпуклости, но не достаточные, почему это так рассмотрим в примере ниже.\n",
    "После проверки задача преобразуется для передачи солверам, поддерживающие решение задач выпуклой оптимизации, в том числе и коммерческие -\n",
    "полный список солверов можно посомотреть на [странице](https://www.cvxpy.org/tutorial/advanced/index.html), там же указаны все типы задач, которые позволяет решать cvxpy. Решение оптимизационной задачи с помощью cvxpy сводится к основным шагам - задание переменных, формирование целевой функции, ограничений, которые в свою очередь являются входами для формирования объекта оптимизационной задачи, и в конце вызов солвера для решения поставленной задачи.\n",
    "Также по аналогии с предыдущими пакетами рассмотрим их применение на примерах.\n",
    "\n",
    "Задачу (1) с помощью cvxpy решить не удастся, так как целевая функция и ограничения в общем случае не являются выпуклыми и, соответственно, не подчиняются правилам DCP.\n",
    "Целевая функция состоит из суммы слагаемых вида $f(x) = x e^{E(x-1)}$, вторая производная которой равна $f''(x) = E x e^{E(x-1)}(Ex + 2)$, которая меняет свой знак в точке $x_{0} = \\frac{-2}{E} = \\frac{2}{|E|}$(с учетом того, что $E \\leqslant 0$) - то есть не является выпуклой.\n",
    "\n",
    "Рассмотрим другой пример: необходимо добраться из точки с координатами (0, 0) в точку (1, 2), сетка разделена на две части вдоль линии y=1,\n",
    "на верхней половине максимально возможная скорость равна 1, а в нижней в k=1.5 меньше, очевидно, что самый быстрый путь по верхнему и нижнему участкам - это движение по прямой линии с максимально скоростью, при этом на границе не должно быть \"разрывов\" траектории.\n",
    "В таком случае оптимизационную задачу можно сформулировать следующим образом:\n",
    "\\begin{cases}\n",
    "\\tag{3}\n",
    "T = \\sqrt{(x-x_{1})^2 + (y-y_{1})^2} + k \\cdot \\sqrt{(x-x_{2})^2 + (y-y_{2})^2} \\to min,\n",
    "\\\\\n",
    "x_{1} = 0,\\ y_{1} = 0,\\ x_{2} = 1,\\ y_{2} = 2,\n",
    "\\\\\n",
    "y = 1\n",
    "\\\\\n",
    "x \\in [0; 2]\n",
    "\\end{cases}\n",
    "Здесь в $T$ - первое и второе слагаемое это путь по прямой от начальной/конечной точки до точки на границе, деленное на скорость."
   ]
  },
  {
   "cell_type": "code",
   "execution_count": 10,
   "id": "d440cfb3",
   "metadata": {},
   "outputs": [
    {
     "name": "stdout",
     "output_type": "stream",
     "text": [
      "is dcp: False\n"
     ]
    }
   ],
   "source": [
    "import cvxpy as cp\n",
    "\n",
    "X1, Y1 = 0.0, 0.0\n",
    "X2, Y2 = 1.0, 2.0\n",
    "# N = V2 / V1\n",
    "K = 1.5\n",
    "# задаем одну переменную x\n",
    "X = cp.Variable(1)\n",
    "Y_ = 1.0\n",
    "# целевая функция - корни из суммы квадратов - являются выпуклыми\n",
    "objective = cp.sqrt(cp.square(X - X1) + cp.square(Y_ - Y1) ** 2) +\\\n",
    "            cp.sqrt(cp.square(X2 - X) + cp.square(Y2 - Y_) ** 2)\n",
    "# здесь единственное ограничение - это диапазон для x\n",
    "constraints = []\n",
    "constraints.extend([X >= 0.0, X <= X2])\n",
    "# объявляем оптимизацонную задачу, здесь берем минимизацию целевой функции\n",
    "problem = cp.Problem(cp.Minimize(objective), constraints)\n",
    "# совершаем проверку задачи на выпуклость согласно правилам DCP\n",
    "print(f\"is dcp: {problem.is_dcp()}\")"
   ]
  },
  {
   "cell_type": "markdown",
   "id": "1ed03737",
   "metadata": {},
   "source": [
    "Как мы видим, исходно выпуклая задача не прошла проверку согласно правилам DCP, так как берется вогнутая функция от выпуклой,\n",
    "но данная проблема решается просто вызовом функции norm - которая считает длину вектора (в нашем контектсе расстояние), про которую cvxpy известно, что она является выпуклой.\n",
    "В модуле есть также еще дополнительный набор функций, которые по не подчиняются DCP, но при этом выпуклые, например, log_sum_exp - логарифм от суммы экспонент.\n",
    "Такие моменты необходимо учитывать при формулировке задач."
   ]
  },
  {
   "cell_type": "code",
   "execution_count": 11,
   "id": "d63b3f36-71cd-4f7e-906f-fa3af80f410f",
   "metadata": {},
   "outputs": [
    {
     "name": "stdout",
     "output_type": "stream",
     "text": [
      "is dcp: True\n",
      "x_opt = 0.623| obj_val =  2.78\n"
     ]
    }
   ],
   "source": [
    "# скорректируем целевую функцию через вызов norm\n",
    "objective = cp.norm(cp.hstack([X-X1, Y_-Y1]), 2) + K * cp.norm(cp.hstack([X2-X, Y2-Y_]), 2)\n",
    "# формируем ограничения и формируем задачу\n",
    "constraints = []\n",
    "constraints.extend([X >= 0.0, X <= X2])\n",
    "problem = cp.Problem(cp.Minimize(objective), constraints)\n",
    "# проверка на выпуклость\n",
    "print(f\"is dcp: {problem.is_dcp()}\")\n",
    "# решаем задачу путем вызова солвера ECOS\n",
    "sol = problem.solve('ECOS')\n",
    "# извлекаем решение\n",
    "x_opt = X.value[0]\n",
    "print(f'x_opt = {round(x_opt, 3)}' '| obj_val = ', round(sol, 2))"
   ]
  },
  {
   "cell_type": "markdown",
   "id": "bdece4ab",
   "metadata": {},
   "source": [
    "Также разберем как решается задача (2) с помощью cvxpy, в данном случае проверка на выпуклость выполняются, так как задачи LP являются аффинными."
   ]
  },
  {
   "cell_type": "code",
   "execution_count": 12,
   "id": "5db007e8-487c-4493-9df5-171e8c1e0ea2",
   "metadata": {},
   "outputs": [
    {
     "name": "stdout",
     "output_type": "stream",
     "text": [
      "[1. 1. 1. 1.] ; obj value =  7.0\n"
     ]
    }
   ],
   "source": [
    "# объявление переменных, отдельно целочисленных и непрерывных\n",
    "x_i = cp.Variable(3, integer=True)\n",
    "x_c = cp.Variable(1, nonneg=True)\n",
    "# коэффициенты для целевой функции и ограничений\n",
    "c = np.array([1., 2., 3., 1.])\n",
    "A = np.array([2., 1., 3., 1.])\n",
    "b = 7.5\n",
    "# максимизация функции - сумма по целочисленной и непрерывной части переменных\n",
    "obj = cp.Maximize(cp.sum(c[:3] @ x_i) + cp.sum(c[3:4] @ x_c))\n",
    "# ограничения на диапазон и на общую сумму\n",
    "cons = [\n",
    "    x_i[0] <= 2, x_i[1] <= 1, x_i[2] <= 1,\n",
    "    x_c <= 1,\n",
    "    ((A[:3] @ x_i) + (A[3:4] @ x_c)) <= b\n",
    "]\n",
    "# формрование задачи и ее решение\n",
    "prb = cp.Problem(obj, cons)\n",
    "sol = prb.solve(verbose=False, solver='GLPK_MI')\n",
    "x_opt = np.concatenate([x_i.value, x_c.value])\n",
    "print(x_opt, '; obj value = ', sol)"
   ]
  },
  {
   "cell_type": "markdown",
   "id": "46b0b1bb",
   "metadata": {},
   "source": [
    "## Заключение"
   ]
  },
  {
   "cell_type": "markdown",
   "id": "7013f922",
   "metadata": {
    "pycharm": {
     "name": "#%% md\n"
    }
   },
   "source": [
    "В данной статье мы рассмотрели ряд open-source библиотеки для решения оптимизационных задач."
   ]
  },
  {
   "cell_type": "markdown",
   "id": "d0695b83",
   "metadata": {},
   "source": [
    "Составим таблицу для перечисленных пакетов и солверов, какие типы задач они решают:\n",
    "\n",
    "\n",
    "|  Пакеты в Python  |     Солвер(метод)    | NLP | LP | MILP | MINLP |\n",
    "|-------------------|----------------------|-----|----|------|-------|\n",
    "| scipy             | cobyla               | +   | -  | -    | -     |\n",
    "| scipy             | slsqp                | +   | -  | -    | -     |\n",
    "| scipy             | trust-constr         | +   | -  | -    | -     |\n",
    "| scipy             | highs                | +   | +  | +    | -     |\n",
    "| pyomo             | ipopt                | +   | +  | -    | -     |\n",
    "| pyomo, cvxpy      | glpk                 | -   | +  | +    | -     |\n",
    "| pyomo, cvxpy      | cbc                  | -   | +  | +    | -     |\n",
    "| cvxpy             | ecos                 | +   | +  | +    | -     |\n",
    "| pyomo             | bonmin               | +   | +  | +    | +     |\n",
    "\n"
   ]
  }
 ],
 "metadata": {
  "celltoolbar": "Необработанный формат ячейки",
  "kernelspec": {
   "display_name": "opt_conda_env",
   "language": "python",
   "name": "opt_conda_env"
  },
  "language_info": {
   "codemirror_mode": {
    "name": "ipython",
    "version": 3
   },
   "file_extension": ".py",
   "mimetype": "text/x-python",
   "name": "python",
   "nbconvert_exporter": "python",
   "pygments_lexer": "ipython3",
   "version": "3.8.15"
  }
 },
 "nbformat": 4,
 "nbformat_minor": 5
}