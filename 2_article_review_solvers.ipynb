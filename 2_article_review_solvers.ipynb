{
 "cells": [
  {
   "cell_type": "markdown",
   "id": "350ad809",
   "metadata": {
    "tags": []
   },
   "source": [
    "# Сравнение open-source солверов на примере задачи ритейла"
   ]
  },
  {
   "cell_type": "markdown",
   "id": "59601c77",
   "metadata": {},
   "source": [
    "Привет, Habr! На связи отдел аналитики данных X5 Tech.\n",
    "\n",
    "В этой статье мы продолжим говорить про оптимизаторы.\n",
    "Для каких задач и как они могут применяться в python мы поговорили в [предыдущей статье](http://).\n",
    "\n",
    "Здесь мы сделаем небольшой обзор существующих open-source решений в python, затронем их различия, особенности и какие задачи могут решать.\n"
   ]
  },
  {
   "cell_type": "markdown",
   "id": "7d49b6fb",
   "metadata": {
    "tags": []
   },
   "source": [
    "## Обзор пакетов python\n"
   ]
  },
  {
   "cell_type": "markdown",
   "id": "c733db56",
   "metadata": {},
   "source": [
    "Рассмотрим open-source пакеты и солверы для решения задач условной оптимизации в зависимости от ее типа, которые часто можно встретить в практических задачах."
   ]
  },
  {
   "cell_type": "markdown",
   "id": "2eac430c",
   "metadata": {
    "tags": []
   },
   "source": [
    "### Открытые библиотеки, предоставляющие интерфейс для решения оптимизационных задач\n"
   ]
  },
  {
   "cell_type": "markdown",
   "id": "a6168b03",
   "metadata": {},
   "source": [
    "[__Scipy__](https://scipy.org/) - библиотека, которая содержит большой набор функций для научных вычислений,\n",
    "в том числе имеет инструменты для решения оптимизационных задач, находящиеся в модуле __scipy.optimize__.\n",
    "В модуле находятся методы для решения задач нелинейного программирования (__NLP__), линейного программирования (__LP__) и смешанного целочисленного линейного програмимрования(__MILP__).\n"
   ]
  },
  {
   "cell_type": "markdown",
   "id": "85e3a02e-bbaf-4c75-a7b9-1eed1f9ee007",
   "metadata": {},
   "source": [
    "Среди солверов, которые поддерживают решение задач условной оптимизации(NLP) можно выделить ___cobyla___, ___slsqp___, ___trust-constr___. Описание методов и ссылки на статьи можно найти [тут](https://habr.com/ru/company/ods/blog/448054/). Здесь вкратце отметим, что __сobyla__ - это метод, позволяющий производить оптимизацию функции, градиент которой неизвестен, т.е. по сути заниматься оптимизацией \"черного ящика\", также cobyla не поддерживает ограничения типа равенства и границы для переменных $x$ - их необходимо задавать через ограничения. Что каксается __slsqp__, __trust-constr__, то для увеличения устойчивости и сходимости оптимизаторов, функции(целевую и ограничения) необходимо отмасштабировать так, чтобы принимаемые значения имели порядок единицы."
   ]
  },
  {
   "cell_type": "markdown",
   "id": "5c61a8f4-43a9-40d8-8c77-c13818152e2e",
   "metadata": {},
   "source": [
    "Рассмотрим небольшой пример примениния метода minimize для решения задачи условной оптимизации, основанный на постановке задачи ценообразования из статьи 1, заодно рассмотрим как ведет себя решение, когда целевая функция имеет \"большой\" масштаб."
   ]
  },
  {
   "cell_type": "code",
   "execution_count": 9,
   "id": "9c1c36e4-16d2-4f44-a578-2bd7bc7e97f2",
   "metadata": {},
   "outputs": [
    {
     "name": "stdout",
     "output_type": "stream",
     "text": [
      "Решение с масштабированием  [0.9   1.016 1.1  ] Optimization terminated successfully\n",
      "Решение без масштабирования [1. 1. 1.] Optimization terminated successfully\n"
     ]
    }
   ],
   "source": [
    "# мини пример из постановки первой статьи\n",
    "import scipy.optimize as scopt\n",
    "import numpy as np\n",
    "\n",
    "# задаем эластичности, используемые в формуле Q = Q0 * exp(E * (P/P0 - 1))\n",
    "E = np.array([-3., -1., -0.5])\n",
    "# текущие цены\n",
    "P0 = np.array([10., 10., 10.])\n",
    "# текущие продажи\n",
    "Q0 = np.array([500000., 2000000., 300000.0])\n",
    "# себестоимость\n",
    "C = np.array([9.0, 8.0, 7.0])\n",
    "# текущая выручка\n",
    "R0 = np.sum(P0 * Q0)\n",
    "# текущая маржа\n",
    "M0 = np.sum((P0 - C) * Q0)\n",
    "\n",
    "# выручка - целевая функция, задаем возможность \"управлять\" масштабом через 'scale'\n",
    "def f_obj(x, args):\n",
    "    f = - args['scale'] * np.sum(Q0 * P0 * x * np.exp(E * (x-1.)))\n",
    "    return f\n",
    "obj = f_obj\n",
    "\n",
    "# функция для ограничения по марже, по умолчанию отмасштабиируем ограничения на текущую выручку\n",
    "def f_cons(x):\n",
    "    f = np.sum(Q0 * (P0 * x - C) * np.exp(E * (x-1.0))) / R0\n",
    "    return f\n",
    "cons = [scopt.NonlinearConstraint(f_cons, lb=M0 / R0, ub=np.inf)]\n",
    "\n",
    "# поиск новой цены производим в диапазоне 90% - 110% от текущей цены\n",
    "x_bounds = [(0.9, 1.1)] * 3\n",
    "# стартовая точка для поиска\n",
    "x0 = [1.0] * 3\n",
    "\n",
    "res_nonscaled = scopt.minimize(obj, x0, bounds=x_bounds, constraints=cons, method='slsqp', args={'scale': 1.})\n",
    "res_scaled = scopt.minimize(obj, x0, bounds=x_bounds, constraints=cons, method='slsqp', args={'scale': 1.0 / R0})\n",
    "print('Решение с масштабированием ', np.round(res_scaled['x'], 3), res_scaled['message'])\n",
    "print('Решение без масштабирования',np.round(res_nonscaled['x'], 3), res_nonscaled['message'])"
   ]
  },
  {
   "cell_type": "markdown",
   "id": "e0caf930-4041-4cdf-8a93-c4a7891a7cab",
   "metadata": {},
   "source": [
    "Как мы видим, в случае когда целевая функция не отмасштабирована солвер даже не трогается с места - решение это стартовое значение, более того согласно своим внутренним критериям считает, что решение является оптимальным, хотя на деле это не так - этот необходимо иметь это ввиду при реализации."
   ]
  },
  {
   "cell_type": "markdown",
   "id": "5f03be14-59dd-44d2-86b4-fb173f707521",
   "metadata": {},
   "source": [
    "Для решения задач линейного программирования в подмодуле имеется функция [linprog](https://docs.scipy.org/doc/scipy/reference/generated/scipy.optimize.linprog.html#scipy.optimize.linprog), начиная с версии scipy==1.9.0 появилась возможность решения задачи линейного целочисленного программирования с помощью функции [milp](https://scipy.github.io/devdocs/reference/generated/scipy.optimize.milp.html) и linprog. В качестве солвера LP(MILP) по умолчанию использется [HiGHS](https://www.maths.ed.ac.uk/hall/HiGHS/)\n"
   ]
  },
  {
   "cell_type": "code",
   "execution_count": 10,
   "id": "ed44102b-418a-4ac5-b5ed-1125babb714e",
   "metadata": {},
   "outputs": [
    {
     "data": {
      "text/plain": [
       "           con: array([], dtype=float64)\n",
       " crossover_nit: -1\n",
       "         eqlin:  marginals: array([], dtype=float64)\n",
       "  residual: array([], dtype=float64)\n",
       "           fun: -8.0\n",
       "       ineqlin:  marginals: array([0.])\n",
       "  residual: array([0.])\n",
       "         lower:  marginals: array([0., 0., 0.])\n",
       "  residual: array([1., 2., 1.])\n",
       "       message: 'Optimization terminated successfully. (HiGHS Status 7: Optimal)'\n",
       "           nit: -1\n",
       "         slack: array([0.])\n",
       "        status: 0\n",
       "       success: True\n",
       "         upper:  marginals: array([0., 0., 0.])\n",
       "  residual: array([0., 0., 0.])\n",
       "             x: array([1., 2., 1.])"
      ]
     },
     "execution_count": 10,
     "metadata": {},
     "output_type": "execute_result"
    }
   ],
   "source": [
    "# пример с \"рюкзаком\" у которого типы переменных различаются\n",
    "c = -np.array([1, 2, 3])\n",
    "A_ub = np.array([[2, 1, 3]])\n",
    "b_ub = np.array([7])\n",
    "var_types = [1, 1, 1]\n",
    "bounds = [(0, 1), (0, 2), (0, 1)]\n",
    "res_milp = scopt.linprog(c=c, A_ub=A_ub, b_ub=b_ub, bounds=bounds, integrality=var_types, method='highs')\n",
    "res_milp"
   ]
  },
  {
   "cell_type": "markdown",
   "id": "b4519d73",
   "metadata": {},
   "source": [
    "[__Pyomo__](http://www.pyomo.org/) - пакет, который содержит ряд инструментов для формулирования, решения и анализа оптимизационных моделей.\n",
    "Главная особенность — это удобный интерфейс для структурированного формулирования оптимизационной задачи и поддержка большого количества солверов, в том числе коммерческих.\n",
    "Pyomo преобразует сформулированную модель в формат, понятный для запускаемого солвера.\n",
    "\n",
    "Pyomo входит в проект [COIN-OR](https://www.coin-or.org/), содержащий ряд солверов, среди которых выделим два:\n",
    "\n",
    "1) [___Ipopt___](https://github.com/coin-or/Ipopt) - находит локальные оптимумы в задаче NLP с помощью прямо-двойственного метода внутренней точки, подробнее в оригинальной [статье](http://www.optimization-online.org/DB_HTML/2004/03/836.html).\n",
    "2) [___Cbc___](https://github.com/coin-or/Cbc) - решает задачи MILP, на базе алгоритма, сочетающем в себе метод ветвей и границ и секущих плоскостей [wiki](https://en.wikipedia.org/wiki/Branch_and_cut).\n",
    "\n",
    "Также для решения задач LP(MILP) имеется поддержка пакета [glpk](https://en.wikipedia.org/wiki/GNU_Linear_Programming_Kit).\n",
    "Отметим еще один солвер [bonmin](https://github.com/coin-or/Bonmin), который построен поверх __Cbc__ и __Ipopt__ - сочетание двух солверов, которое браться за задачи __MINLP__.\n"
   ]
  },
  {
   "cell_type": "code",
   "execution_count": 111,
   "id": "af19a720-0ed7-44e4-87e1-a0dd0a8edff8",
   "metadata": {},
   "outputs": [
    {
     "name": "stdout",
     "output_type": "stream",
     "text": [
      "[0.9, 1.016, 1.1] ; obj value =  29210742.0\n"
     ]
    }
   ],
   "source": [
    "# пример аналогичный предыдущему\n",
    "# мини пример из постановки первой статьи\n",
    "import pyomo.environ as pyo\n",
    "import numpy as np\n",
    "\n",
    "# Количество товаров\n",
    "N = 3\n",
    "# задаем эластичности, используемые в формуле Q = Q0 * exp(E * (P/P0 - 1))\n",
    "E = np.array([-3., -1., -0.5])\n",
    "# текущие цены\n",
    "P0 = np.array([10., 10., 10.])\n",
    "# текущие продажи\n",
    "Q0 = np.array([500000., 2000000., 300000.0])\n",
    "# себестоимость\n",
    "C = np.array([9.0, 8.0, 7.0])\n",
    "# текущая выручка\n",
    "R0 = np.sum(P0 * Q0)\n",
    "# текущая маржа\n",
    "M0 = np.sum((P0 - C) * Q0)\n",
    "\n",
    "bounds = [(0.9, 1.1)] * N\n",
    "\n",
    "model = pyo.ConcreteModel('model')\n",
    "\n",
    "model.x = pyo.Var(range(N), domain=pyo.Reals, bounds=bounds, initialize=1)\n",
    "scale = 1.0\n",
    "\n",
    "obj_expr = sum(scale * P0[i] * model.x[i] * Q0[i] * pyo.exp(E[i] * (model.x[i] - 1)) for i in model.x)\n",
    "model.obj = pyo.Objective(expr=obj_expr, sense=pyo.maximize)\n",
    "\n",
    "con_expr = sum((P0[i] * model.x[i] - C[i]) * Q0[i] * pyo.exp(E[i] * (model.x[i] - 1)) for i in model.x) >= M0\n",
    "model.con = pyo.Constraint(expr=con_expr)\n",
    "\n",
    "solver = pyo.SolverFactory('ipopt')\n",
    "res = solver.solve(model)\n",
    "x_opt = [round(model.x[i].value, 3) for i in model.x]\n",
    "print(x_opt, '; obj value = ', round(model.obj(x_opt), 0))"
   ]
  },
  {
   "cell_type": "code",
   "execution_count": 113,
   "id": "a6096abb-8e98-4966-ba0a-910974a3ead8",
   "metadata": {},
   "outputs": [
    {
     "name": "stdout",
     "output_type": "stream",
     "text": [
      "[1.0, 2.0, 1.0] ; obj value =  8.0\n"
     ]
    }
   ],
   "source": [
    "# milp примерчик с рюкзаком\n",
    "# пример с \"рюкзаком\" у которого типы переменных различаются\n",
    "c = np.array([1, 2, 3])\n",
    "A = np.array([2, 1, 3])\n",
    "b = 7\n",
    "\n",
    "model = pyo.ConcreteModel('model')\n",
    "bounds = [(0, 1), (0, 2), (0, 1)]\n",
    "\n",
    "model.x = pyo.Var(range(3), domain=pyo.Integers, bounds=bounds)\n",
    "\n",
    "obj_expr = sum(c * model.x)\n",
    "model.obj = pyo.Objective(expr=obj_expr, sense=pyo.maximize)\n",
    "\n",
    "con_expr = sum(A * model.x) <= b\n",
    "model.con = pyo.Constraint(expr=con_expr)\n",
    "\n",
    "solver = pyo.SolverFactory('glpk')\n",
    "res = solver.solve(model)\n",
    "x_opt = [model.x[i].value for i in model.x]\n",
    "print(x_opt, '; obj value = ', model.obj(x_opt))"
   ]
  },
  {
   "cell_type": "markdown",
   "id": "ecedb74f-58f6-48de-bbca-bd9a7b59f81c",
   "metadata": {},
   "source": [
    "Pyomo имеет подмодуль __GDP__ (Generalized Disjunctive Programming) - который позволяет моделировать логические правила и задавать ограничения, которые должны при этом выполняться, в простейшем случае данный подход может быть удобне когда необходимо выбрать одно из действий, каждое из которых описывается своей системой ограничений."
   ]
  },
  {
   "cell_type": "code",
   "execution_count": 112,
   "id": "dcd43ce7-4624-4822-b694-af7df636c99e",
   "metadata": {},
   "outputs": [
    {
     "data": {
      "text/plain": [
       "[0.0, 1.5, -2.0]"
      ]
     },
     "execution_count": 112,
     "metadata": {},
     "output_type": "execute_result"
    }
   ],
   "source": [
    "import pyomo.environ as pyo\n",
    "from pyomo.gdp import Disjunct, Disjunction\n",
    "model = pyo.ConcreteModel('gdp_sample')\n",
    "model.x = pyo.Var(range(0, 3), domain=pyo.Reals, bounds=(-3., 3.))\n",
    "a = [0.0, 1.0, -2.0]\n",
    "obj_expr = sum((model.x[i] - a[i]) ** 2 for i in model.x)\n",
    "model.obj = pyo.Objective(expr=obj_expr, sense=pyo.minimize)\n",
    "model.djn = Disjunction(range(3))\n",
    "\n",
    "d = Disjunct()\n",
    "d.c = pyo.Constraint(rule=(0, model.x[0], 1))\n",
    "for i in range(3):\n",
    "    model.djn[i] = [model.x[i] <= -1.5, model.x[i] == 0, model.x[i] >= 1.5] \n",
    "\n",
    "    \n",
    "pyo.TransformationFactory('gdp.hull').apply_to(model)\n",
    "solver = pyo.SolverFactory('bonmin')\n",
    "res = solver.solve(model)\n",
    "x_opt = [round(model.x[i].value, 3) for i in model.x]\n",
    "x_opt\n"
   ]
  },
  {
   "cell_type": "markdown",
   "id": "3ddbd836",
   "metadata": {},
   "source": [
    "[__Cvxpy__](https://www.cvxpy.org/index.html) - данный пакет специально заточен для решения задач выпуклой оптимизации (convex optimization).\n",
    "После того как задача сформулирована, перед решением проверяется выпуклость и аффинность целевой функции и ограничений с помощью правил [DCP](https://www.cvxpy.org/tutorial/dcp/index.html)\n",
    "(disciplined convex programming). По сути это набор правил, которые однозначно гарантируют выпуклость функции, например, если берется\n",
    "После проверки задача преобразуется в стандартную форму и передается квадратичному или коническому солверу.\n",
    "Полный список солверов и, соответственно, тиопв решаемых задач можно найти [здесь](https://www.cvxpy.org/tutorial/advanced/index.html).\n"
   ]
  },
  {
   "cell_type": "code",
   "execution_count": 40,
   "id": "d63b3f36-71cd-4f7e-906f-fa3af80f410f",
   "metadata": {},
   "outputs": [
    {
     "name": "stdout",
     "output_type": "stream",
     "text": [
      "x_opt = 0.623\n"
     ]
    }
   ],
   "source": [
    "import cvxpy as cp\n",
    "\n",
    "# пример, когда не выполняются правила DCP, но при этом функция выпуклая\n",
    "X1, Y1 = 0.0, 0.0\n",
    "X2, Y2 = 1.0, 2.0\n",
    "# N = V2 / V1\n",
    "N = 1.5\n",
    "\n",
    "X = cp.Variable(1)\n",
    "Y_ = 1.0\n",
    "\n",
    "objective = cp.norm(cp.hstack([X-X1, Y_-Y1]), 2) + N * cp.norm(cp.hstack([X2-X, Y2-Y_]), 2)\n",
    "constraints = []\n",
    "constraints.extend([X >= 0.0, X <= X2])\n",
    "problem = cp.Problem(cp.Minimize(objective), constraints)\n",
    "obj_val = problem.solve('ECOS')\n",
    "X_ = X.value[0]\n",
    "print(f'x_opt = {round(X_, 3)}')"
   ]
  },
  {
   "cell_type": "code",
   "execution_count": 38,
   "id": "b3e1475e-9788-4250-a62f-8e0a5dced18f",
   "metadata": {},
   "outputs": [
    {
     "data": {
      "text/plain": [
       "(False, False, False, False, False)"
      ]
     },
     "execution_count": 38,
     "metadata": {},
     "output_type": "execute_result"
    }
   ],
   "source": [
    "objective = cp.sqrt(cp.square(X - X1) + cp.square(Y_ - Y1) ** 2) + cp.sqrt(cp.square(X2 - X) + cp.square(Y2 - Y_) ** 2)\n",
    "constraints = []\n",
    "constraints.extend([X >= 0.0, X <= X2])\n",
    "problem = cp.Problem(cp.Minimize(objective), constraints)\n",
    "problem.is_dcp(), problem.is_dgp(), problem.is_dpp(), problem.is_dqcp(), problem.is_qp()"
   ]
  },
  {
   "cell_type": "code",
   "execution_count": null,
   "id": "5db007e8-487c-4493-9df5-171e8c1e0ea2",
   "metadata": {},
   "outputs": [],
   "source": [
    "import cvxpy as cp\n",
    "\n",
    "x = cp.Variable(3, boolean=True)\n",
    "c = np.array([1., 2., 3.])\n",
    "A = np.array([2., 1., 3.])\n",
    "b = 5.\n",
    "obj = cp.Maximize(cp.sum(c @ x))\n",
    "cons = [(A @ x) <= b]\n",
    "prb = cp.Problem(obj, cons)\n",
    "sol = prb.solve(verbose=False, solver='GLPK_MI')"
   ]
  },
  {
   "cell_type": "markdown",
   "id": "d0695b83",
   "metadata": {},
   "source": [
    "Составим таблицу для перечисленных пакетов и солверов, какие типы задач они решают:\n",
    "\n",
    "\n",
    "|  Пакеты в python  |     Солвер(метод)    | NLP | LP | MILP | MINLP |\n",
    "|-------------------|----------------------|-----|----|------|-------|\n",
    "| scipy             | cobyla               | y   | n  | n    | n     |\n",
    "| scipy             | slsqp                | y   | n  | n    | n     |\n",
    "| scipy             | trust-constr         | y   | n  | n    | n     |\n",
    "| pyomo             | ipopt                | y   | y  | n    | n     |\n",
    "| pyomo, cvxpy      | glpk                 | n   | y  | y    | n     |\n",
    "| pyomo, cvxpy      | cbc                  | n   | y  | y    | n     |\n",
    "| cvxpy             | ecos                 | y   | y  | y    | n     |\n",
    "| pyomo             | bonmin               | y   | y  | y    | y     |\n",
    "\n"
   ]
  },
  {
   "cell_type": "markdown",
   "id": "46b0b1bb",
   "metadata": {},
   "source": [
    "## Заключение"
   ]
  },
  {
   "cell_type": "markdown",
   "id": "7013f922",
   "metadata": {
    "pycharm": {
     "name": "#%% md\n"
    }
   },
   "source": [
    "В данной статье мы рассмотрели ряд open-source библиотеки для решения оптимизационых задач"
   ]
  },
  {
   "cell_type": "code",
   "execution_count": null,
   "id": "745b62d8-b28e-45a8-912d-a8f73d5ed33b",
   "metadata": {},
   "outputs": [],
   "source": []
  }
 ],
 "metadata": {
  "celltoolbar": "Необработанный формат ячейки",
  "kernelspec": {
   "display_name": "opt_conda_env",
   "language": "python",
   "name": "opt_conda_env"
  },
  "language_info": {
   "codemirror_mode": {
    "name": "ipython",
    "version": 3
   },
   "file_extension": ".py",
   "mimetype": "text/x-python",
   "name": "python",
   "nbconvert_exporter": "python",
   "pygments_lexer": "ipython3",
   "version": "3.8.13"
  }
 },
 "nbformat": 4,
 "nbformat_minor": 5
}
