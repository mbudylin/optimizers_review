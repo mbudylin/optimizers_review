{
 "cells": [
  {
   "cell_type": "markdown",
   "id": "350ad809",
   "metadata": {
    "tags": []
   },
   "source": [
    "# Сравнение open-source солверов на примере задачи ритейла"
   ]
  },
  {
   "cell_type": "markdown",
   "id": "59601c77",
   "metadata": {},
   "source": [
    "Привет, Habr! На связи отдел аналитики данных X5 Tech.\n",
    "\n",
    "В этой статье мы продолжим говорить про оптимизаторы.\n",
    "В [предыдущей статье](https://habr.com/ru/company/X5Tech/blog/685590/) мы попытались описать\n",
    "основные типы оптимизационных задач, перечислили несколько примеров задач из области ритейла, а также сравнили\n",
    "производительности двух оптимизаторов для решения модельной задачи ценообразования на языке Python.\n",
    "\n",
    "Здесь мы сделаем краткий обзор существующих open-source решений в Python,\n",
    "затронем их различия, особенности и задачи, которые можно решать с их помощью.\n"
   ]
  },
  {
   "cell_type": "markdown",
   "id": "7d49b6fb",
   "metadata": {
    "tags": []
   },
   "source": [
    "## Обзор пакетов Python\n"
   ]
  },
  {
   "cell_type": "markdown",
   "id": "c733db56",
   "metadata": {},
   "source": [
    "Для упрощения восприятия материала, отобразим взаимосвязи тип задачи - солвер в виде схемы:\n",
    "\n",
    "<img src=\"images/solvers.png\" alt=\"drawing\" width=\"600\"/>\n",
    "\n",
    "Далее в указанном порядке будет рассматривать эти пакеты и говорить о важных, на наш взгляд,\n",
    "деталях их реализации, и иллюстрировать на примерах задач условной оптимизации.\n"
   ]
  },
  {
   "cell_type": "markdown",
   "id": "a0b67db9",
   "metadata": {},
   "source": [
    "### Scipy "
   ]
  },
  {
   "cell_type": "markdown",
   "id": "a6168b03",
   "metadata": {},
   "source": [
    "[__Scipy__](https://scipy.org/) - одна из первых библиотек в Python, знакомство с которой начинается у специалистов\n",
    "в области Data Science - она содержит большой набор функций для научных вычислений,\n",
    "в том числе имеет инструменты для решения оптимизационных задач, находящиеся в модуле __scipy.optimize__.\n",
    "В этом модуле имеются методы для решения задач как нелинейного программирования (__NLP__),\n",
    " так и линейного программирования (__LP__), в том числе задач смешанного целочисленного линейного программирования(__MILP__).\n"
   ]
  },
  {
   "cell_type": "markdown",
   "id": "85e3a02e-bbaf-4c75-a7b9-1eed1f9ee007",
   "metadata": {},
   "source": [
    "Среди солверов, которые поддерживают решение задач условной оптимизации (NLP) можно выделить __cobyla__, __slsqp__, __trust-constr__.\n",
    "Обзор методов, литературы и примеры применения солверов можно найти [тут](https://habr.com/ru/company/ods/blog/448054/).\n",
    "Здесь же вкратце отметим, что __сobyla__ - это метод, позволяющий производить оптимизацию функции, градиент которой неизвестен,\n",
    "т.е. по сути заниматься оптимизацией \"черного ящика\".\n",
    "Также стоит обратить внимание на то, что __cobyla__ не поддерживает ограничения типа равенства: $a(x) = b$. Связанно это с особенностями\n",
    "реализации солвера, который внутри себя вызывает scipy, эту проблему можно обойти, заменив ограничение на два ограничения вида\n",
    "неравенства: $a(x) \\leq b$ и $a(x) \\geq b$, которое равносильно равенству. Также __cobyla__ не поддерживает границы для переменных $x$,\n",
    "задаваемых через параметр bounds в функции __minimize__(из модуля scipy.optimize) - их необходимо задавать через линейные ограничения, например с помощью LinearConstraint.\n",
    "Что касается __slsqp__, __trust-constr__, то это методы уже второго порядка, соответственно, для них требуется существование и непрерывность 1-ой и 2-ой производных."
   ]
  },
  {
   "cell_type": "markdown",
   "id": "5c61a8f4-43a9-40d8-8c77-c13818152e2e",
   "metadata": {},
   "source": [
    "Рассмотрим небольшой пример применения метода minimize, иллюстрирующий полезность масштабирования, основанный на постановке задачи ценообразования\n",
    "из [статьи 1](https://habr.com/ru/company/X5Tech/blog/685590/) - максимизация выручки с сохранением текущего уровня маржи с ограниченным\n",
    "диапазоном изменения цены в пределах ±10% от текущей.\n",
    "Обозначения:\n",
    "\n",
    "$n$ - количество товаров\n",
    "\n",
    "$P_{0, i}$ - текущая цена,\n",
    "\n",
    "$Q_{0, i}$ - текущие продажи,\n",
    "\n",
    "$x_{i} = P_{i} / P_{0, i}$ - отношение новой цены $P_{i}$ к текущей\n",
    "\n",
    "$E_{i}$ - параметр для пересчета спроса по формуле $Q_{i}(x) = Q_{0, i} \\cdot \\exp(E \\cdot (x - 1))$\n",
    "\n",
    "$R_{i}(x_{i}) = \\sum_{i=1}^{n} P_{0, i} \\cdot x_{i} \\cdot Q_{i}(x) $ - выручка\n",
    "\n",
    "$M_{i}(x_{i}) = \\sum_{i=1}^{n} (P_{0, i} \\cdot x_{i} - C_{i})\\cdot Q_{0, i} \\cdot Q_{i}(x_i) $ - маржа,\n",
    "\n",
    "$M_{0} = \\sum_{i=1}^{n} M_{i}(x_{i}=1)$ - текущая маржа,\n",
    "\n",
    "\\begin{cases}\n",
    "\\tag{1}\n",
    "\\sum_{i=1}^{n} R_{i}(x_{i}) \\to \\max,\n",
    "\\\\\n",
    "\\sum_{i=1}^{n} M_{i}(x_{i}) \\geqslant M_{0},\n",
    "\\\\\n",
    "x_i \\in [0.9, 1.1], \\ i=1..n\\\\\n",
    "\\end{cases}"
   ]
  },
  {
   "cell_type": "code",
   "execution_count": 3,
   "id": "9c1c36e4-16d2-4f44-a578-2bd7bc7e97f2",
   "metadata": {},
   "outputs": [],
   "source": [
    "# мини пример из постановки первой статьи\n",
    "import scipy.optimize as scopt\n",
    "import numpy as np\n",
    "\n",
    "# задаем параметры E, используемые в формуле Q = Q0 * exp(E * (x - 1))\n",
    "E = np.array([-3., -1., -0.5])\n",
    "# текущие цены\n",
    "P0 = np.array([100., 100., 100.])\n",
    "# текущие продажи\n",
    "Q0 = np.array([50000., 200000., 30000.0])\n",
    "# себестоимость\n",
    "C = np.array([90.0, 80.0, 70.0])\n",
    "# текущая выручка\n",
    "R0 = np.sum(P0 * Q0)\n",
    "# текущая маржа\n",
    "M0 = np.sum((P0 - C) * Q0)\n",
    "\n",
    "# выручка - целевая функция, задаем возможность \"управлять\" масштабом через 'scale'\n",
    "def f_obj(x, args):\n",
    "    f = - args['scale'] * np.sum(Q0 * P0 * x * np.exp(E * (x-1.)))\n",
    "    return f\n",
    "obj = f_obj\n",
    "\n",
    "# функция для ограничения по марже, по умолчанию отмасштабиируем ограничения на текущую выручку\n",
    "def f_cons(x):\n",
    "    f = np.sum(Q0 * (P0 * x - C) * np.exp(E * (x-1.0))) / R0\n",
    "    return f\n",
    "con_mrg = scopt.NonlinearConstraint(f_cons, lb=M0 / R0, ub=np.inf)\n",
    "# поиск новой цены производим в диапазоне 90% - 110% от текущей цены\n",
    "x_bounds = [(0.9, 1.1)] * 3\n",
    "# ограничение для переменых в cobyla\n",
    "con_bnd = scopt.LinearConstraint(np.eye(3), lb=[0.9] * 3, ub=[1.1] * 3)\n",
    "# стартовая точка для поиска\n",
    "x0 = [1.0] * 3"
   ]
  },
  {
   "cell_type": "code",
   "execution_count": 28,
   "id": "cd088cc4",
   "metadata": {},
   "outputs": [
    {
     "name": "stdout",
     "output_type": "stream",
     "text": [
      "Решение trust-constr [0.9    1.0165 1.1   ] Optimization terminated successfully.\n",
      "Выручка : 29210742.0\n",
      "Ограничение на маржу M >= 5400000.0 ; значение маржи : 5399998.0\n"
     ]
    }
   ],
   "source": [
    "# применение солвера cobyla\n",
    "res_cobyla = scopt.minimize(obj, x0, constraints=[con_bnd, con_mrg], method='cobyla', args={'scale': 1})\n",
    "print('Решение trust-constr', np.round(res_cobyla['x'], 4), res_cobyla['message'])\n",
    "print('Выручка :', round(-f_obj(res_cobyla['x'], {'scale': 1}), 0))\n",
    "print('Ограничение на маржу M >=', M0, '; значение маржи :', round(R0 * con_mrg.fun(res_cobyla['x']), 0))"
   ]
  },
  {
   "cell_type": "code",
   "execution_count": 27,
   "id": "77e21ed7",
   "metadata": {},
   "outputs": [
    {
     "name": "stdout",
     "output_type": "stream",
     "text": [
      "Решение trust-constr [0.9    1.0165 1.1   ] `gtol` termination condition is satisfied.\n",
      "Выручка : 29210742.0\n",
      "Ограничение на маржу M >= 5400000.0 ; значение маржи : 5400005.0\n"
     ]
    }
   ],
   "source": [
    "# применение солвера trust-constr\n",
    "res_trust_const =\\\n",
    "    scopt.minimize(obj, x0, bounds=x_bounds, constraints=[con_mrg], method='trust-constr', args={'scale': 1})\n",
    "print('Решение trust-constr', np.round(res_trust_const['x'], 4), res_trust_const['message'])\n",
    "print('Выручка :', round(-f_obj(res_trust_const['x'], {'scale': 1}), 0))\n",
    "print('Ограничение на маржу M >=', M0, '; значение маржи :', round(R0 * con_mrg.fun(res_trust_const['x']), 0))"
   ]
  },
  {
   "cell_type": "code",
   "execution_count": 26,
   "id": "d329dd8e",
   "metadata": {},
   "outputs": [
    {
     "name": "stdout",
     "output_type": "stream",
     "text": [
      "Решение trust-constr [1. 1. 1.] Optimization terminated successfully\n",
      "Выручка : 28000000.0\n",
      "Ограничение на маржу M >= 5400000.0 ; значение маржи : 5400000.0\n"
     ]
    }
   ],
   "source": [
    "# применение солвера slsqp\n",
    "res_slsqp =\\\n",
    "    scopt.minimize(obj, x0, bounds=x_bounds, constraints=[con_mrg], method='slsqp', args={'scale': 1})\n",
    "print('Решение trust-constr', np.round(res_slsqp['x'], 4), res_slsqp['message'])\n",
    "print('Выручка :', round(-f_obj(res_slsqp['x'], {'scale': 1}), 0))\n",
    "print('Ограничение на маржу M >=', M0, '; значение маржи :', round(R0 * con_mrg.fun(res_slsqp['x']), 0))"
   ]
  },
  {
   "cell_type": "markdown",
   "id": "015e6d4a",
   "metadata": {},
   "source": [
    "Как мы видим методы __cobyla__ и __trust-constr__ сходятся к одному и тому же решению, также видно, выполняются все ограничения(по границам и по марже - с точностью более 7-8 знаков), а вот __slsqp__ в данном случае, кажется,\n",
    "\"остался\" в начальной точке - это связанно с критерием на остановку при достижении определенного уровня изменения целевой функции и градиентов, которые регулируются через параметры ftol и eps в аргументе options. Вообще говоря, в большинстве реализаций солверов производится масштабирование фенкций к значению порядка 1, что позволяет улучшить устойчивость и сходимость методов. Попробуем применить масштабирование в задаче путем деления выручку при текущих ценах $R_{0}$."
   ]
  },
  {
   "cell_type": "code",
   "execution_count": 25,
   "id": "1a06ea40",
   "metadata": {},
   "outputs": [
    {
     "name": "stdout",
     "output_type": "stream",
     "text": [
      "Решение trust-constr [0.9    1.0165 1.1   ] Optimization terminated successfully\n",
      "Выручка : 29210742.0\n",
      "Ограничение на маржу M >= 5400000.0 ; значение маржи : 5399999.0\n"
     ]
    }
   ],
   "source": [
    "# применение солвера slsqp\n",
    "res_slsqp =\\\n",
    "    scopt.minimize(obj, x0, bounds=x_bounds, constraints=[con_mrg], method='slsqp', args={'scale': 1./R0})\n",
    "print('Решение trust-constr', np.round(res_slsqp['x'], 4), res_slsqp['message'])\n",
    "print('Выручка :', round(-f_obj(res_slsqp['x'], {'scale': 1}), 0))\n",
    "print('Ограничение на маржу M >=', M0, '; значение маржи :', round(R0 * con_mrg.fun(res_slsqp['x']), 0))"
   ]
  },
  {
   "cell_type": "markdown",
   "id": "9a27fd89",
   "metadata": {},
   "source": [
    "Теперь __slsqp__ сходится к тому же решению, что и __cobyla__, __trust-constr__, данный момент необходимо учитывать при формировании задачи для передачи в солвер."
   ]
  },
  {
   "cell_type": "markdown",
   "id": "5f03be14-59dd-44d2-86b4-fb173f707521",
   "metadata": {},
   "source": [
    "Для решения задач линейного программирования в подмодуле __optimize__ имеется функция [__linprog__](https://docs.scipy.org/doc/scipy/reference/generated/scipy.optimize.linprog.html#scipy.optimize.linprog),\n",
    "начиная с версии scipy==1.9.0 появилась возможность решения задачи линейного целочисленного программирования с помощью функции [__milp__](https://scipy.github.io/devdocs/reference/generated/scipy.optimize.milp.html) и __linprog__.\n",
    "В качестве солвера LP(MILP) по умолчанию используется [HiGHS](https://www.maths.ed.ac.uk/hall/HiGHS/) - в нем реализован симплекс метод(highs-ds) и метод внутренней точки(highs-ipm) - при запуске решения по умолчанию выбирается один из методов, но при запуске можно самостоятельно выбрать один из них.\n"
   ]
  },
  {
   "cell_type": "markdown",
   "id": "eea974a4-4e02-4484-86e3-f233c9e1d6a6",
   "metadata": {},
   "source": [
    "Для примера рассмотрим небольшую задачку смешанного целочисленного рюкзака, где для наглядности применения метода __linprog__ используем переменные разных типов:\n",
    "\n",
    "\\begin{cases}\n",
    "\\tag{2}\n",
    "x = (x_{1}, x_{2}, x_{3}, x_{4})\n",
    "\\\\\n",
    "\\\\\n",
    "F(x) = 1 \\cdot x_{1} + 2 \\cdot x_{2} + 3 \\cdot x_{3} + 1 \\cdot x_{4} \\to \\max\n",
    "\\\\\n",
    "\\\\\n",
    "3 \\cdot x_1 + 1 \\cdot x_2 + 2 \\cdot x_3 + 2 \\cdot x_4 \\leqslant 7.0\n",
    "\\\\\n",
    "\\\\\n",
    "x_{1} \\in \\{0, 1, 2\\}, x_{2}, x_{3} \\in \\{0, 1\\}, x_{4} \\in [0.0; 0.5]\n",
    "\\end{cases}"
   ]
  },
  {
   "cell_type": "code",
   "execution_count": 8,
   "id": "ed44102b-418a-4ac5-b5ed-1125babb714e",
   "metadata": {
    "pycharm": {
     "name": "#%%\n"
    }
   },
   "outputs": [
    {
     "name": "stdout",
     "output_type": "stream",
     "text": [
      "Решение: x = [1.  1.  1.  0.5], f = 6.5, Optimization terminated successfully. (HiGHS Status 7: Optimal)\n"
     ]
    }
   ],
   "source": [
    "# пример с \"рюкзаком\" у которого типы переменных различаются\n",
    "# так как задача максимизации, не забываем ставить минус для коэффициентов в целевой функции\n",
    "c = -np.array([1., 2., 3., 1.])\n",
    "A_ub = np.array([[3., 1., 2., 2.]])\n",
    "b_ub = np.array([7.0])\n",
    "# проставляем индикаторы для типа переменных, 0 - непрерывное, 1 - целое число\n",
    "var_types = [1, 1, 1, 0]\n",
    "# также указываем границы, в том числе и для целочисленных переменных\n",
    "bounds = [(0, 2), (0, 1), (0, 1), (0, 0.5)]\n",
    "res_milp = scopt.linprog(c=c, A_ub=A_ub, b_ub=b_ub, bounds=bounds, integrality=var_types, method='highs')\n",
    "# print('Решение:', np.round(res_milp['x'], 4), 'f_max = ', , res_milp['message'])\n",
    "print(f\"Решение: x = {np.round(res_milp['x'], 2)}, f = {-res_milp['fun']}, {res_milp['message']}\")"
   ]
  },
  {
   "cell_type": "markdown",
   "id": "2abb9eb6",
   "metadata": {},
   "source": [
    "Как мы видим задача успешно решена. Попробуем убедиться в правильности, подобрав решение перебором - так как вариантов не так много: для первой переменной 3, второй и третьей - 2, итого 3 * 2 * 2 = 12 вариантов и, поскольу, решается задача максимизации с положительными коэффициентами в целевой функции, то непрерывную переменную нужно брать \"максимальной\" пока не упремся либо в ограничение либо в допустимые границы переменной. В резудьтате перебора необходимо будет отсечь решения, которые нарушают ограничение на сумму, они будут отмечены меткой is_valid=False:"
   ]
  },
  {
   "cell_type": "code",
   "execution_count": 11,
   "id": "53e98632",
   "metadata": {},
   "outputs": [
    {
     "name": "stderr",
     "output_type": "stream",
     "text": [
      "[1211/193442.856617:INFO:headless_shell.cc(623)] Written to file /var/folders/bn/zpkz54h12h91dlsrft_4kvp40000gn/T/tmp2j6twybl/temp.png.\n"
     ]
    }
   ],
   "source": [
    "# захардкодим полный перебор\n",
    "import dataframe_image as dfi\n",
    "import itertools\n",
    "import pandas as pd\n",
    "# генерируем всевозможные варианты для целочисленных переменных\n",
    "sols = pd.DataFrame(list(itertools.product([0., 1., 2.], [0., 1.], [0., 1.])), columns=['x1', 'x2', 'x3'])\n",
    "# часть суммы из ограничения, связанная с целочисленными переменными\n",
    "sols['a'] = sols[['x1', 'x2', 'x3']].multiply(np.array([3., 1., 2.]), axis=1).sum(axis=1)\n",
    "# непрерывная переменная формируется по остаточному принципу по ограничению для максимизации целевой функции\n",
    "# здесь же учитываем, что максимальное значение равно 0.5\n",
    "sols['x4'] = np.clip((7.0 - sols['a']) / 2.0, 0.0, 0.5)\n",
    "# подсчет целевой функции и поиск оптимального решения с выводом всех вариантов\n",
    "# где через is_valid обозначены допустимые решения\n",
    "sols['f'] = sols[['x1', 'x2', 'x3', 'x4']].multiply(np.array([1., 2., 3., 1.]), axis=1).sum(axis=1)\n",
    "sols['a'] = sols['a'] + 2 * sols['x4']\n",
    "sols['is_valid'] = sols['a'] <= 7.0\n",
    "i_max = sols[sols['is_valid']]['f'].idxmax()\n",
    "sols = sols[['x1', 'x2', 'x3', 'x4', 'a', 'is_valid', 'f']].transpose()\n",
    "res = sols.style.set_properties(**{'background-color': '#5eae76'}, subset=[i_max]).format(precision=2)\n",
    "dfi.export(res, './images/milp_brute_force.png')"
   ]
  },
  {
   "cell_type": "markdown",
   "id": "dcca9cdb",
   "metadata": {},
   "source": [
    "<img src=\"images/milp_brute_force.png\" alt=\"drawing\" width=\"450\"/>"
   ]
  },
  {
   "cell_type": "markdown",
   "id": "f2dd9776",
   "metadata": {},
   "source": [
    "### Pyomo"
   ]
  },
  {
   "cell_type": "markdown",
   "id": "b4519d73",
   "metadata": {},
   "source": [
    "[__Pyomo__](http://www.pyomo.org/) - пакет, который содержит ряд инструментов для формулирования, решения и анализа оптимизационных моделей.\n",
    "Главная особенность — это удобный интерфейс для структурированного формирования оптимизационной задачи и поддержка большого количества солверов, в том числе коммерческих.\n",
    "Pyomo внутри себя преобразует сформулированную модель в формат, понятный для запускаемого солвера.\n",
    "\n",
    "Pyomo входит в проект [COIN-OR](https://www.coin-or.org/), содержащий ряд солверов, среди которых выделим два:\n",
    "\n",
    "[__Ipopt__](https://github.com/coin-or/Ipopt) - находит локальные оптимумы в задаче NLP с помощью прямо-двойственного метода внутренней точки, подробнее в оригинальной [статье](http://www.optimization-online.org/DB_HTML/2004/03/836.html).\n",
    "\n",
    "[__Cbc__](https://github.com/coin-or/Cbc) - решает задачи MILP, на базе алгоритма, сочетающем в себе метод ветвей и границ и секущих плоскостей [wiki](https://en.wikipedia.org/wiki/Branch_and_cut).\n",
    "\n",
    "Также для решения задач LP/MILP имеется поддержка пакета [glpk](https://en.wikipedia.org/wiki/GNU_Linear_Programming_Kit).\n",
    "Отметим еще один солвер [bonmin](https://github.com/coin-or/Bonmin), который построен на безе солверов __Cbc__ и __Ipopt__, что позволяет браться за задачи __MINLP__.\n",
    "\n",
    "Процесс построения оптимизационной модели в __pyomo__ состоит из основных этапов: создание объекта оптимизационной модели,\n",
    "объявление переменных в этой модели с границами, формулирование целевой функции, описание ограничений, запуск солвера, решающего задачу. Рассмотрим шаги на примере задач (1) и (2)."
   ]
  },
  {
   "cell_type": "code",
   "execution_count": 56,
   "id": "af19a720-0ed7-44e4-87e1-a0dd0a8edff8",
   "metadata": {},
   "outputs": [
    {
     "name": "stdout",
     "output_type": "stream",
     "text": [
      "Решение ipopt [0.9, 1.016, 1.1] optimal\n",
      "Выручка : 29210742.0\n",
      "Ограничение на маржу M >= 5400000.0 ; значение маржи : 5400000.0\n"
     ]
    }
   ],
   "source": [
    "# пример для задачи (1)\n",
    "import pyomo.environ as pyo\n",
    "import numpy as np\n",
    "\n",
    "# Количество товаров\n",
    "N = 3\n",
    "# задаем эластичности, используемые в формуле Q = Q0 * exp(E * (P/P0 - 1))\n",
    "E = np.array([-3., -1., -0.5])\n",
    "# текущие цены\n",
    "P0 = np.array([10., 10., 10.])\n",
    "# текущие продажи\n",
    "Q0 = np.array([500000., 2000000., 300000.0])\n",
    "# себестоимость\n",
    "C = np.array([9.0, 8.0, 7.0])\n",
    "# текущая выручка\n",
    "R0 = np.sum(P0 * Q0)\n",
    "# текущая маржа\n",
    "M0 = np.sum((P0 - C) * Q0)\n",
    "# диапазон поиска переменных\n",
    "bounds = [(0.9, 1.1)] * N\n",
    "# объявление объекта - модели \n",
    "model = pyo.ConcreteModel('model')\n",
    "# задаем переменные, в данном случае они все непрерывные, инициализируем 1.0\n",
    "model.x = pyo.Var(range(N), domain=pyo.Reals, bounds=bounds, initialize=1)\n",
    "# объявление целевой функции и передача в модель\n",
    "obj_expr = sum(P0[i] * model.x[i] * Q0[i] * pyo.exp(E[i] * (model.x[i] - 1)) for i in model.x)\n",
    "model.obj = pyo.Objective(expr=obj_expr, sense=pyo.maximize)\n",
    "# объявление ограничения и передача в модель\n",
    "con_expr = sum((P0[i] * model.x[i] - C[i]) * Q0[i] * pyo.exp(E[i] * (model.x[i] - 1)) for i in model.x) >= M0\n",
    "model.con = pyo.Constraint(expr=con_expr)\n",
    "# запуск солвера ipopt для решения поставленной оптимизационной задачи\n",
    "solver = pyo.SolverFactory('ipopt')\n",
    "res = solver.solve(model)\n",
    "# получение ответа - результата решения задачи\n",
    "x_opt = [round(model.x[i].value, 3) for i in model.x]\n",
    "\n",
    "print('Решение ipopt', x_opt, res.solver.termination_condition)\n",
    "print('Выручка :', round(model.obj(), 0))\n",
    "print('Ограничение на маржу M >=', M0, '; значение маржи :', round(model.con(), 0))"
   ]
  },
  {
   "cell_type": "code",
   "execution_count": 55,
   "id": "a6096abb-8e98-4966-ba0a-910974a3ead8",
   "metadata": {},
   "outputs": [
    {
     "name": "stdout",
     "output_type": "stream",
     "text": [
      "Решение: x = [1.0, 1.0, 1.0, 0.5], f = 6.5, optimal\n"
     ]
    }
   ],
   "source": [
    "# MILP пример с рюкзаком\n",
    "# пример с \"рюкзаком\" у которого типы переменных различаются\n",
    "# так как в pyomo не реализована возможность указывать в одном векторе значения разных типов\n",
    "# то необходимо из описывать отдельно и данные, соответственно, для удобства тоже\n",
    "c_i, c_c = np.array([1., 2., 3.]), np.array([1.])\n",
    "A_i, A_c = np.array([3., 1., 2.]), np.array([2.])\n",
    "b = 7.0\n",
    "# объявление объекта - модели \n",
    "model = pyo.ConcreteModel('model')\n",
    "# формирование переменных - отдельно целочисленные и непрерывные\n",
    "bounds_i = [(0.0, 2.0), (0.0, 1.0), (0.0, 1.0)]\n",
    "bounds_c = [(0.0, 0.5)]\n",
    "model.x_i = pyo.Var(range(3), domain=pyo.Integers, bounds=bounds_i)\n",
    "model.x_c = pyo.Var(range(1), domain=pyo.Reals, bounds=bounds_c)\n",
    "# объявление целевой функции и передача в модель для максимизации\n",
    "obj_expr = sum(c_i[i] * model.x_i[i] for i in model.x_i) +\\\n",
    "           sum(c_c[i] * model.x_c[i] for i in model.x_c)\n",
    "model.obj = pyo.Objective(expr=obj_expr, sense=pyo.maximize)\n",
    "# объявление\n",
    "con_expr = sum(A_i[i] * model.x_i[i] for i in model.x_i) +\\\n",
    "           sum(A_c[i] * model.x_c[i] for i in model.x_c) <= b\n",
    "model.con = pyo.Constraint(expr=con_expr)\n",
    "\n",
    "solver = pyo.SolverFactory('glpk')\n",
    "res = solver.solve(model)\n",
    "x_opt = [model.x_i[i].value for i in model.x_i] + [model.x_c[i].value for i in model.x_c]\n",
    "print(f\"Решение: x = {x_opt}, f = {model.obj()}, {res.solver.termination_condition}\")"
   ]
  },
  {
   "cell_type": "markdown",
   "id": "ecedb74f-58f6-48de-bbca-bd9a7b59f81c",
   "metadata": {},
   "source": [
    "Из дополнительного можно отметить, что Pyomo также имеет подмодуль __GDP__ [(Generalized Disjunctive Programming)](https://pyomo.readthedocs.io/en/stable/modeling_extensions/gdp/index.html), который позволяет моделировать логические правила и задавать ограничения,\n",
    "которые должны при этом выполняться, например, в простейшем случае данный подход может быть применен когда необходимо выбрать одно из действий,\n",
    "каждое из которых описывается своей системой ограничений. Разберем чем может быть полезен данный подход на примере следующей задачи:"
   ]
  },
  {
   "cell_type": "markdown",
   "id": "d6d5ea6c-c27d-4c0b-bb88-2a9f0a18dfbf",
   "metadata": {},
   "source": [
    "\n",
    "\\begin{cases}\n",
    "\\tag{3}\n",
    "f_1(x_1) = x_1^2\n",
    "\\\\\n",
    "f_2(x_2) = (x_2 - 1) ^ 2\n",
    "\\\\\n",
    "f_3(x_3) = (x_3 + 2) ^ 2\n",
    "\\\\\n",
    "F(x_1, x_2, x_3) = f_1(x_1) + f_2(x_2) + f_3(x_3)\n",
    "\\\\\n",
    "x_i \\in [-3; -1.5 ] \\cup \\{0\\} \\cup [ 1.5; 3] , \\ i = 1..3\n",
    "\\end{cases}\n",
    "\n",
    "Как несложно заметить, здесь в определении области переменных есть \"разрыв\", который тривиальным образом описать невозможно,\n",
    "необходимо вводить условие на то в какой из трех областей $[-3; -1.5 ], \\{0\\}, [ 1.5; 3]$ необходимо производить поиск решения. Так как исходная функция является суммой функций от каждой из переменной, то минимум достигается в минимуме каждой из функций. Отрисуем графики с учетом условий на $x$ - можно видеть, что $f_1$ достигает своего минимума в $x_1 = 0.0$, $f_2$ в $x_2=1.5$, $f_3$ в $x_3=-2.0$.\n",
    "\n",
    "\n"
   ]
  },
  {
   "cell_type": "code",
   "execution_count": 68,
   "id": "cd48cd7d",
   "metadata": {},
   "outputs": [
    {
     "data": {
      "image/png": "[encoded data removed]",
      "text/plain": [
       "<Figure size 800x500 with 1 Axes>"
      ]
     },
     "metadata": {},
     "output_type": "display_data"
    }
   ],
   "source": [
    "import matplotlib.pyplot as plt\n",
    "\n",
    "\n",
    "def parabola(x, a):\n",
    "    return (x - a) ** 2\n",
    "\n",
    "\n",
    "l, m, r = [-3.0, -1.5], 0.0, [1.5, 3.0]\n",
    "x_i = [np.linspace(l[0], l[1], 20), np.array([m]), np.linspace(r[0], r[1], 20), np.linspace(l[1], r[0], 20)]\n",
    "f_1 = [parabola(x_, 0.0) for x_ in x_i]\n",
    "f_2 = [parabola(x_, 1.0) for x_ in x_i]\n",
    "f_3 = [parabola(x_, -2.0) for x_ in x_i]\n",
    "f_s = [f_1[i] + f_2[i] + f_3[i] for i in range(4)]\n",
    "x_min = [0.0, 1.5, -2.0]\n",
    "colors = ['tab:blue', 'tab:orange', 'tab:green']\n",
    "labels = ['f_1', 'f_2', 'f_3']\n",
    "\n",
    "plt.figure(figsize=(8, 5))\n",
    "\n",
    "for f_v, lbl, c in zip([f_1, f_2, f_3], labels, colors):\n",
    "    plt.plot(x_i[0], f_v[0], c=c, label=lbl, lw=2.0)\n",
    "    plt.plot(x_i[2], f_v[2], c=c, lw=2.0)\n",
    "    x_pt = [x_i[0][0], x_i[0][-1], x_i[1][0], x_i[2][0], x_i[2][-1]]\n",
    "    f_pt = [f_v[0][0], f_v[0][-1], f_v[1][0], f_v[2][0], f_v[2][-1]]\n",
    "    plt.scatter(x_pt, f_pt, c=c)\n",
    "    plt.plot(x_i[3], f_v[3], linestyle='--', c=c, lw=2.0) \n",
    "plt.grid()\n",
    "plt.legend()\n",
    "plt.show()\n"
   ]
  },
  {
   "cell_type": "markdown",
   "id": "6f71a1d5",
   "metadata": {},
   "source": [
    "Процесс формирования оптимизационной модели для задачи (3) коцептуально похож на то, что были для задач (1) и (2) - опишем его кодом ниже, снабдив необходимыми комментариями:"
   ]
  },
  {
   "cell_type": "code",
   "execution_count": 75,
   "id": "dcd43ce7-4624-4822-b694-af7df636c99e",
   "metadata": {},
   "outputs": [
    {
     "name": "stdout",
     "output_type": "stream",
     "text": [
      "Решение  [0.0, 1.5, -2.0] , f =  0.25\n"
     ]
    }
   ],
   "source": [
    "import pyomo.environ as pyo\n",
    "from pyomo.gdp import Disjunct, Disjunction\n",
    "# формирование объекта модели pyomo\n",
    "model = pyo.ConcreteModel('gdp_sample')\n",
    "# общий диапазон для всех переменных [-3.0, 3.0]\n",
    "model.x = pyo.Var(range(0, 3), domain=pyo.Reals, bounds=(-3., 3.))\n",
    "# задание целевой функции\n",
    "a = [0.0, 1.0, -2.0]\n",
    "obj_expr = sum((model.x[i] - a[i]) ** 2 for i in model.x)\n",
    "model.obj = pyo.Objective(expr=obj_expr, sense=pyo.minimize)\n",
    "# формирование правил для дипазонов поиска переменных с помощью функции Disjunction.\n",
    "# в объекте Disjunction необходимо перечислить условия в виде ограничений\n",
    "# всего у нас три переменных, поэтому задаем три группы условий, в кажой из которых будет выполняться только одно\n",
    "model.djn = Disjunction(range(3))\n",
    "# непосредственно задание условий для каждой из переменных\n",
    "for i in range(3):\n",
    "    model.djn[i] = [model.x[i] <= -1.5, model.x[i] == 0, model.x[i] >= 1.5] \n",
    "# перед началом решения необходимо произвести преобразование модели для дальнйшей передачи в солвер\n",
    "# в данном случае преобразование произведем т.н. методом big-M, который позволяет \n",
    "# перекодировать логические условия в алгебраические, \n",
    "# сводя задачу к MINLP - более подробно как устроен метод и пример формирования условий руками рассмотрим в следующей статье\n",
    "# здесь ниже оставим ссылку для ознакомления с подходм\n",
    "pyo.TransformationFactory('gdp.bigm').apply_to(model)\n",
    "solver = pyo.SolverFactory('bonmin')\n",
    "res = solver.solve(model)\n",
    "x_opt = [round(model.x[i].value, 3) for i in model.x]\n",
    "print('Решение ', x_opt, ', f = ', round(model.obj(), 2))\n"
   ]
  },
  {
   "cell_type": "markdown",
   "id": "2eed261b",
   "metadata": {},
   "source": [
    "Как видим решение для $x$ совпадает с ожидаемым. А вот [Ссылка](https://en.wikipedia.org/wiki/Big_M_method) на метод big-M. "
   ]
  },
  {
   "cell_type": "markdown",
   "id": "2b5193f9",
   "metadata": {},
   "source": [
    "### Cvxpy"
   ]
  },
  {
   "cell_type": "markdown",
   "id": "3ddbd836",
   "metadata": {},
   "source": [
    "[__Cvxpy__](https://www.cvxpy.org/index.html) - данный пакет был реализован для решения задач [выпуклой оптимизации](https://en.wikipedia.org/wiki/Convex_optimization).\n",
    "\n",
    "Для решения задачи, по аналогии с pyomo, необходимо выполнить несколько шагов - определить переменные, задать целевую функцию и ограничения для формирования объекта оптимизационной задачи. После того как задача сформулирована, перед запуском солвера проверяется выпуклость целевой функции и ограничений с помощью правил [DCP](https://www.cvxpy.org/tutorial/dcp/index.html)\n",
    "(disciplined convex programming). По сути это набор правил, которые однозначно гарантируют выпуклость функции, здесь стоит отметить, что эти правила - необходимые условия, но не достаточные, почему это так рассмотрим в примере ниже.\n",
    "После проверки задача преобразуется для передачи солверу, поддерживающий решение задач выпуклой оптимизации, в том числе cvxpy поддерживает коммерческие солверы -\n",
    "полный список солверов можно посмотреть на этой [странице](https://www.cvxpy.org/tutorial/advanced/index.html), там же указаны все типы задач, которые позволяет решать __cvxpy__.\n",
    "Также по аналогии с предыдущими пакетами рассмотрим применение cvxpy на примерах.\n",
    "\n",
    "Задачу (1) с помощью __cvxpy__ решить не удастся, так как целевая функция и ограничения в общем случае не являются выпуклыми и, соответственно, не подчиняются правилам DCP.\n",
    "Целевая функция состоит из суммы слагаемых вида $f(x) = x e^{E(x-1)}$, вторая производная которой равна $f''(x) = E x e^{E(x-1)}(Ex + 2)$ и меняет свой знак в точке $x_{0} = \\frac{-2}{E} = \\frac{2}{|E|}$ (с учетом того, что $E \\leqslant 0$) - то есть в общем случае не является выпуклой.\n",
    "\n",
    "Рассмотрим другой пример: необходимо добраться из точки с координатами (0, 0) в точку (1, 2), область разделена на две части вдоль линии y=1, до y=1 максимальная скорость равна 1, а после в k=1.5 меньше. Очевидно, что самый быстрый путь - это движение по прямой линии с максимально скоростью на кажлом из участков, при этом на границе не должно быть \"разрывов\" траектории.\n",
    "В таком случае оптимизационную задачу можно сформулировать следующим образом:\n",
    "\\begin{cases}\n",
    "\\tag{4}\n",
    "T = \\sqrt{(x-x_{1})^2 + (y-y_{1})^2} + k \\cdot \\sqrt{(x-x_{2})^2 + (y-y_{2})^2} \\to min,\n",
    "\\\\\n",
    "x_{1} = 0,\\ y_{1} = 0,\\ x_{2} = 1,\\ y_{2} = 2,\n",
    "\\\\\n",
    "y = 1\n",
    "\\\\\n",
    "x \\in [0; 2]\n",
    "\\end{cases}\n",
    "Здесь в $T$ - первое и второе слагаемое это путь по прямой от начальной/конечной точки до точки на границе, деленное на скорость, другими словами время, затрачиваемое прохождение пути на 1-ом и 2-ом участках. Каждое из слагаемых является выпуклой функцией, а значит и  их сумма тоже."
   ]
  },
  {
   "cell_type": "markdown",
   "id": "ffd9d03c",
   "metadata": {
    "tags": []
   },
   "source": [
    "<img src=\"images/cvxpy_example.png\" alt=\"drawing\" width=\"450\"/>"
   ]
  },
  {
   "cell_type": "code",
   "execution_count": 79,
   "id": "d440cfb3",
   "metadata": {},
   "outputs": [
    {
     "name": "stdout",
     "output_type": "stream",
     "text": [
      "is dcp: False\n"
     ]
    }
   ],
   "source": [
    "import cvxpy as cp\n",
    "\n",
    "X1, Y1 = 0.0, 0.0\n",
    "X2, Y2 = 1.0, 2.0\n",
    "# N = V2 / V1\n",
    "K = 1.5\n",
    "# задаем одну переменную x\n",
    "X = cp.Variable(1)\n",
    "Y_ = 1.0<img src=\"images/milp_brute_force.png\" alt=\"drawing\" width=\"450\"/>\n",
    "# целевая функция - корни из суммы квадратов - являются выпуклыми\n",
    "objective = cp.sqrt(cp.square(X - X1) + cp.square(Y_ - Y1) ** 2) +\\\n",
    "            cp.sqrt(cp.square(X2 - X) + cp.square(Y2 - Y_) ** 2)\n",
    "# здесь единственное ограничение - это диапазон для x\n",
    "constraints = []\n",
    "constraints.extend([X >= 0.0, X <= X2])\n",
    "# объявляем оптимизационную задачу, здесь берем минимизацию целевой функции\n",
    "problem = cp.Problem(cp.Minimize(objective), constraints)\n",
    "# совершаем проверку задачи на выпуклость согласно правилам DCP\n",
    "print(f\"is dcp: {problem.is_dcp()}\")"
   ]
  },
  {
   "cell_type": "markdown",
   "id": "1ed03737",
   "metadata": {},
   "source": [
    "Как мы видим, исходно выпуклая задача не прошла проверку согласно правилам DCP, так как берется вогнутая функция от выпуклой,\n",
    "но данная проблема решается просто вызовом функции norm - которая считает длину вектора (в нашем контексте расстояние), про которую __cvxpy__ известно, что она является выпуклой.\n",
    "В модуле есть также еще дополнительный набор функций, которые не подчиняются DCP, но при этом выпуклые, например, log_sum_exp - логарифм от суммы экспонент.\n",
    "Такие моменты необходимо учитывать при формулировке задач."
   ]
  },
  {
   "cell_type": "code",
   "execution_count": 80,
   "id": "d63b3f36-71cd-4f7e-906f-fa3af80f410f",
   "metadata": {},
   "outputs": [
    {
     "name": "stdout",
     "output_type": "stream",
     "text": [
      "is dcp: True\n",
      "Решение: x = 0.623, f =  2.78\n"
     ]
    }
   ],
   "source": [
    "# скорректируем целевую функцию через вызов norm\n",
    "objective = cp.norm(cp.hstack([X - X1, Y_ - Y1]), 2) + K * cp.norm(cp.hstack([X2 - X, Y2 - Y_]), 2)\n",
    "# формируем ограничения и формируем задачу\n",
    "constraints = []\n",
    "constraints.extend([X >= 0.0, X <= X2])\n",
    "problem = cp.Problem(cp.Minimize(objective), constraints)\n",
    "# проверка на выпуклость\n",
    "print(f\"is dcp: {problem.is_dcp()}\")\n",
    "# решаем задачу путем вызова солвера ECOS\n",
    "sol = problem.solve('ECOS')\n",
    "# извлекаем решение\n",
    "x_opt = X.value[0]\n",
    "print(f'Решение: x = {round(x_opt, 3)}, f = ', round(sol, 2))"
   ]
  },
  {
   "cell_type": "markdown",
   "id": "bdece4ab",
   "metadata": {},
   "source": [
    "Также разберем как решается задача (2) с помощью __cvxpy__, так как пакет позвляет решать задачи LP(MILP)"
   ]
  },
  {
   "cell_type": "code",
   "execution_count": 85,
   "id": "5db007e8-487c-4493-9df5-171e8c1e0ea2",
   "metadata": {},
   "outputs": [
    {
     "name": "stdout",
     "output_type": "stream",
     "text": [
      "Решение: x = [1.  1.  1.  0.5], f = 6.5, optimal\n"
     ]
    }
   ],
   "source": [
    "# объявление переменных, отдельно целочисленных и непрерывных\n",
    "x_i = cp.Variable(3, integer=True)\n",
    "x_c = cp.Variable(1, nonneg=True)\n",
    "# коэффициенты для целевой функции и ограничений\n",
    "c = np.array([1., 2., 3., 1.])\n",
    "A = np.array([3., 1., 2., 2.])\n",
    "b = 7.0\n",
    "# максимизация функции - сумма по целочисленной и непрерывной части переменных\n",
    "obj = cp.Maximize(cp.sum(c[:3] @ x_i) + cp.sum(c[3:4] @ x_c))\n",
    "# ограничения на диапазон и на общую сумму\n",
    "cons = [\n",
    "    x_i[0] <= 2, x_i[1] <= 1, x_i[2] <= 1,\n",
    "    x_c <= 1,\n",
    "    ((A[:3] @ x_i) + (A[3:4] @ x_c)) <= b\n",
    "]\n",
    "# формирование задачи и ее решение\n",
    "prb = cp.Problem(obj, cons)\n",
    "sol = prb.solve(verbose=False, solver='GLPK_MI')\n",
    "x_opt = np.concatenate([x_i.value, x_c.value])\n",
    "print(f\"Решение: x = {np.round(x_opt, 2)}, f = {sol}, {prb.status}\")"
   ]
  },
  {
   "cell_type": "markdown",
   "id": "46b0b1bb",
   "metadata": {},
   "source": [
    "## Заключение"
   ]
  },
  {
   "cell_type": "markdown",
   "id": "7013f922",
   "metadata": {
    "pycharm": {
     "name": "#%% md\n"
    }
   },
   "source": [
    "В данной статье мы рассмотрели ряд open-source библиотеки для решения оптимизационных задач."
   ]
  },
  {
   "cell_type": "markdown",
   "id": "d0695b83",
   "metadata": {},
   "source": [
    "Подводя итог, составим таблицу для рассмотренных в статье пакетов и какие типы задач они решают:\n",
    "\n",
    "\n",
    "|  Пакеты в Python  |     Солвер(метод)    | NLP | LP | MILP | MINLP |\n",
    "|-------------------|----------------------|-----|----|------|-------|\n",
    "| scipy             | cobyla               | +   | -  | -    | -     |\n",
    "| scipy             | slsqp                | +   | -  | -    | -     |\n",
    "| scipy             | trust-constr         | +   | -  | -    | -     |\n",
    "| scipy             | highs                | +   | +  | +    | -     |\n",
    "| pyomo             | ipopt                | +   | +  | -    | -     |\n",
    "| pyomo, cvxpy      | glpk                 | -   | +  | +    | -     |\n",
    "| pyomo, cvxpy      | cbc                  | -   | +  | +    | -     |\n",
    "| cvxpy             | ecos                 | +   | +  | +    | -     |\n",
    "| pyomo             | bonmin               | +   | +  | +    | +     |\n",
    "\n",
    "\n",
    "Над статьёй работали: Будылин Михаил, Антон Денисов."
   ]
  },
  {
   "cell_type": "code",
   "execution_count": null,
   "id": "c81e9057",
   "metadata": {},
   "outputs": [],
   "source": []
  },
  {
   "cell_type": "code",
   "execution_count": null,
   "id": "06b96485",
   "metadata": {},
   "outputs": [],
   "source": []
  }
 ],
 "metadata": {
  "celltoolbar": "Необработанный формат ячейки",
  "kernelspec": {
   "display_name": "opt_conda_env",
   "language": "python",
   "name": "opt_conda_env"
  },
  "language_info": {
   "codemirror_mode": {
    "name": "ipython",
    "version": 3
   },
   "file_extension": ".py",
   "mimetype": "text/x-python",
   "name": "python",
   "nbconvert_exporter": "python",
   "pygments_lexer": "ipython3",
   "version": "3.8.15"
  }
 },
 "nbformat": 4,
 "nbformat_minor": 5
}