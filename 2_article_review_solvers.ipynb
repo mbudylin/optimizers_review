{
 "cells": [
  {
   "cell_type": "markdown",
   "id": "350ad809",
   "metadata": {
    "tags": []
   },
   "source": [
    "# Обзор пакетов SciPy, Pyomo и CVXPY для решения задач условной оптимизации"
   ]
  },
  {
   "cell_type": "markdown",
   "id": "59601c77",
   "metadata": {},
   "source": [
    "Привет, Habr!\n",
    "На связи [Михаил Будылин](https://habr.com/ru/users/muxeu/) и [Антон Денисов](https://habr.com/ru/users/6redik/),\n",
    "мы работаем в отделе аналитики данных X5 Tech.\n",
    "\n",
    "В этой статье мы продолжаем говорить про прикладное применение теории оптимизации.\n",
    "В частности, делаем краткий обзор существующих open-source решений в Python, с которыми мы сталкивались на практике.\n",
    "Затрагиваем их различия и особенности, приводим примеры задач, которые можно решать с их помощью. \n",
    "\n",
    "В нашей [предыдущей статье](https://habr.com/ru/company/X5Tech/blog/685590/) мы описали основные типы оптимизационных задач,\n",
    "перечислили несколько примеров задач из области ритейла, а также сравнили\n",
    "производительности двух оптимизаторов для решения модельной задачи ценообразования на языке Python.\n"
   ]
  },
  {
   "cell_type": "markdown",
   "id": "7d49b6fb",
   "metadata": {
    "tags": []
   },
   "source": [
    "## Обзор пакетов Python\n"
   ]
  },
  {
   "cell_type": "markdown",
   "id": "c733db56",
   "metadata": {},
   "source": [
    "Для начала напомним основу - постановку задачи оптимизации:\n",
    "\n",
    "Пусть $x$ - вектор размерности $n$, $x \\in X$ - допустимое множество значений этих переменных.\n",
    "\n",
    "$f(x) \\to \\min(\\max)$, $f(\\cdot)$ - целевая функция,\n",
    "\n",
    "$g_i(x) \\leqslant 0, \\ i=1..m$ - ограничения вида неравенств.\n",
    "\n",
    "$h_i(x) = 0, \\ j=1..k$ - ограничения вида равенств.\n",
    "\n",
    "А так же, классификацию оптимизационных задач, предложенную в предыдущей статье:\n",
    "\n",
    "* __Безусловная оптимизация__ $g_i(x), h_j(x)$ - отсутствуют, $X = \\mathbb{R}^n$;\n",
    "\n",
    "* __LP__ (linear programming) - линейное программирование. $f(x), g_i(x), h_j(x)$ - линейные функции, $X = \\mathbb{R}_+^n$;\n",
    "\n",
    "* __MILP__ (mixed integer linear programming) - смешанное целочисленное линейное программирование, это задача LP в которой часть переменных являются целочисленными;\n",
    "\n",
    "* __NLP__ (nonlinear programming) - нелинейное программирование, возникает когда хотя бы одна из функций $f(x),\\ g_i(x),\\ h_j(x)$ нелинейна;\n",
    "\n",
    "* __MINLP__ (mixed integer nonlinear programming) - смешанное целочисленное нелинейное программирование,\n",
    "возникает как и в случае с MILP, когда часть переменных принимает целочисленные значения;\n",
    "\n",
    "Теперь добавим в полученную картину солверы и отобразим в виде схемы:\n",
    "\n",
    "<img src=\"images/solvers.jpg\" alt=\"drawing\" width=\"600\"/>\n",
    "\n",
    "Далее в указанном порядке будем рассматривать эти пакеты и говорить о важных, на наш взгляд,\n",
    "деталях их реализации, и иллюстрировать на примерах задач условной оптимизации.\n",
    "Для воспроизведения расчётов необходимо установить пакеты, инструкция описана у нас в [Readme](https://github.com/mbudylin/optimizers_review#readme), также есть возможность запустить в [докере](https://github.com/mbudylin/optimizers_review/blob/master/Dockerfile).\n"
   ]
  },
  {
   "cell_type": "markdown",
   "id": "a0b67db9",
   "metadata": {},
   "source": [
    "## SciPy. Обзор."
   ]
  },
  {
   "cell_type": "markdown",
   "id": "a6168b03",
   "metadata": {},
   "source": [
    "[__SciPy__](https://scipy.org/) -- одна из первых библиотек в Python, знакомство с которой начинается у специалистов\n",
    "в области Data Science: она содержит большой набор функций для научных вычислений,\n",
    "в том числе имеет инструменты для решения оптимизационных задач, находящихся в модуле __scipy.optimize__.\n",
    "В этом модуле имеются методы для решения задач как нелинейного программирования (__NLP__),\n",
    " так и линейного программирования (__LP__), в том числе задач смешанного целочисленного линейного программирования (__MILP__).\n"
   ]
  },
  {
   "cell_type": "markdown",
   "id": "85e3a02e-bbaf-4c75-a7b9-1eed1f9ee007",
   "metadata": {},
   "source": [
    "Среди солверов, которые поддерживают решение задач условной оптимизации (NLP) можно выделить\n",
    "__COBYLA__, __SLSQP__, __trust-constr__. Все три метода реализованы в пакете\n",
    "`scipy.optimize.minimize` и определяются параметром `method` (`'cobyla'`, `'slsqp'` и `'trust-constr'` соответственно).\n",
    "\n",
    "__COBYLA__ -- это метод, позволяющий производить оптимизацию функции, градиент которой неизвестен,\n",
    "т.е., по сути, заниматься оптимизацией «черного ящика».\n",
    "Для практического применения важно, что этот метод:\n",
    "* __не поддерживает__ ограничения типа равенства: $a(x) = b$. Связано это с особенностями реализации солвера, который внутри себя вызывает SciPy. Эту проблему можно обойти, заменив ограничение на два ограничения вида неравенства: $a(x) \\leq b$ и $a(x) \\geq b$, которое равносильно равенству.\n",
    "* __не поддерживает__ границы для переменных $x$, задаваемых через параметр bounds в функции __minimize__ (из модуля scipy.optimize) - их необходимо задавать через линейные ограничения, например с помощью LinearConstraint.\n",
    "\n",
    "__SLSQP__ и __trust-constr__ -- это методы уже второго порядка, соответственно, для них требуется существование и непрерывность 1-ой и 2-ой производных.\n",
    "\n",
    "Подробный обзор методов, литературы и примеры применения солверов можно найти [тут](https://habr.com/ru/company/ods/blog/448054/)."
   ]
  },
  {
   "cell_type": "markdown",
   "id": "43d45345",
   "metadata": {},
   "source": [
    "### SciPy. Решение задачи ценообразования."
   ]
  },
  {
   "cell_type": "markdown",
   "id": "5c61a8f4-43a9-40d8-8c77-c13818152e2e",
   "metadata": {},
   "source": [
    "<a id='example_1'></a>\n",
    "Рассмотрим пример использование методов __scipy__ для решения задачи ценообразования\n",
    "из [статьи 1](https://habr.com/ru/company/X5Tech/blog/685590/).\n",
    "Задача заключалась в максимизации выручки с сохранением текущего уровня маржи с ограниченным диапазоном изменения цены в пределах ±10% от текущей.\n",
    "Постановка была следующей:\n",
    "\n",
    "**!! Здесь всё нормально с индексами?**\n",
    "\n",
    "$n$ –- количество товаров,\n",
    "\n",
    "$P_{0, i}$ -– текущая цена товара $i$,\n",
    "\n",
    "$Q_{0, i}$ -– текущие продажи товара $i$,\n",
    "\n",
    "$x_{i} = P_{i} / P_{0, i}$ -- отношение новой цены $P_{i}$ к текущей $P_{0, i}$,\n",
    "\n",
    "$E_{i}$ -- параметр для пересчёта спроса на товар по формуле $Q_{i}(x) = Q_{0, i} \\cdot \\exp(E_{i} \\cdot (x_{i} - 1))$,\n",
    "\n",
    "$R_{i}(x_{i}) = \\sum_{i=1}^{n} P_{0, i} \\cdot x_{i} \\cdot Q_{i}(x_i) $ -- выручка, которая для каждого товара определяется как произведение его цены на продажи,\n",
    "\n",
    "$M_{i}(x_{i}) = \\sum_{i=1}^{n} (P_{0, i} \\cdot x_{i} - C_{i})\\cdot Q_{0, i} \\cdot Q_{i}(x_i) $ -- маржа, которая считается как разность между ценой продажи и себестоимостью, умноженной на продажи,\n",
    "\n",
    "$M_{0} = \\sum_{i=1}^{n} M_{i}(x_{i}=1)$ -- текущая маржа, т.е. её значение при текущей цене,\n",
    "\n",
    "\\begin{cases}\n",
    "\\tag{1}\n",
    "\\sum_{i=1}^{n} R_{i}(x_{i}) \\to \\max,\n",
    "\\\\\n",
    "\\sum_{i=1}^{n} M_{i}(x_{i}) \\geqslant M_{0},\n",
    "\\\\\n",
    "x_i \\in [0.9, 1.1], \\ i=1..n\\\\\n",
    "\\end{cases}"
   ]
  },
  {
   "cell_type": "markdown",
   "id": "c26660d4",
   "metadata": {},
   "source": [
    "Оформим все функции для решения задачи в виде кода и зададим начальные условия:"
   ]
  },
  {
   "cell_type": "code",
   "execution_count": 1,
   "id": "9c1c36e4-16d2-4f44-a578-2bd7bc7e97f2",
   "metadata": {},
   "outputs": [],
   "source": [
    "# мини пример из постановки первой статьи\n",
    "import scipy.optimize as scopt\n",
    "import numpy as np\n",
    "\n",
    "# Количество товаров\n",
    "N = 3\n",
    "# задаем параметры E, используемые в формуле Q = Q0 * exp(E * (x - 1))\n",
    "E = np.array([-3., -1., -0.5])\n",
    "# текущие цены\n",
    "P0 = np.array([100., 100., 100.])\n",
    "# текущие продажи\n",
    "Q0 = np.array([50000., 200000., 30000.0])\n",
    "# себестоимость\n",
    "C = np.array([90.0, 80.0, 70.0])\n",
    "# текущая выручка\n",
    "R0 = np.sum(P0 * Q0)\n",
    "# текущая маржа\n",
    "M0 = np.sum((P0 - C) * Q0)\n",
    "\n",
    "# Почему дальше не сохранил обозначения для функций выручки и маржи??\n",
    "# выручка - целевая функция, задаем возможность \"управлять\" масштабом через 'scale'\n",
    "def f_obj(x, args):\n",
    "    f = - args['scale'] * np.sum(Q0 * P0 * x * np.exp(E * (x - 1.)))\n",
    "    return f\n",
    "obj = f_obj\n",
    "\n",
    "# функция для ограничения по марже, по умолчанию нормируем ограничения на текущую выручку\n",
    "def f_cons(x):\n",
    "    f = np.sum(Q0 * (P0 * x - C) * np.exp(E * (x - 1.0))) / R0\n",
    "    return f\n",
    "\n",
    "con_mrg = scopt.NonlinearConstraint(f_cons, lb=M0 / R0, ub=np.inf)\n",
    "# поиск новой цены производим в диапазоне 90% - 110% от текущей цены\n",
    "x_bounds = [(0.9, 1.1)] * 3\n",
    "# ограничение для переменных в cobyla\n",
    "con_bnd = scopt.LinearConstraint(np.eye(3), lb=[0.9] * 3, ub=[1.1] * 3)\n",
    "# стартовая точка для поиска\n",
    "x0 = [1.0] * 3\n",
    "\n",
    "def print_results(model, solver_name, M0, R0):\n",
    "    print(f\"Решение {solver_name}: {list(np.round(model['x'], 4))}; model message: {model['message']}\")\n",
    "    print(f\"Выручка: {round(-f_obj(model['x'], {'scale': 1}), 0)}\")\n",
    "    print(f\"Ограничение на маржу M >= {M0}; значение маржи: {round(R0 * con_mrg.fun(model['x']), 0)}\")"
   ]
  },
  {
   "cell_type": "code",
   "execution_count": 2,
   "id": "65f65d66-fce2-4d04-b529-bc280a7b54e2",
   "metadata": {},
   "outputs": [
    {
     "name": "stdout",
     "output_type": "stream",
     "text": [
      "Решение cobyla: [0.9, 1.0165, 1.1]; model message: Optimization terminated successfully.\n",
      "Выручка: 29210742.0\n",
      "Ограничение на маржу M >= 5400000.0; значение маржи: 5399998.0\n"
     ]
    }
   ],
   "source": [
    "# применение солвера cobyla\n",
    "res_cobyla = scopt.minimize(obj, x0, constraints=[con_bnd, con_mrg], method='cobyla', args={'scale': 1})\n",
    "print_results(res_cobyla, 'cobyla', M0, R0)"
   ]
  },
  {
   "cell_type": "code",
   "execution_count": 3,
   "id": "e35b9f0b-6931-4f15-b552-e1368a18f931",
   "metadata": {},
   "outputs": [
    {
     "name": "stdout",
     "output_type": "stream",
     "text": [
      "Решение trust-constr: [0.9, 1.0165, 1.1]; model message: `gtol` termination condition is satisfied.\n",
      "Выручка: 29210742.0\n",
      "Ограничение на маржу M >= 5400000.0; значение маржи: 5400005.0\n"
     ]
    }
   ],
   "source": [
    "# применение солвера trust-constr\n",
    "res_trust_const =\\\n",
    "    scopt.minimize(obj, x0, bounds=x_bounds, constraints=[con_mrg], method='trust-constr', args={'scale': 1})\n",
    "print_results(res_trust_const, 'trust-constr', M0, R0)"
   ]
  },
  {
   "cell_type": "code",
   "execution_count": 4,
   "id": "e342f921-0c53-45bd-a22a-173d07125373",
   "metadata": {},
   "outputs": [
    {
     "name": "stdout",
     "output_type": "stream",
     "text": [
      "Решение slsqp: [1.0, 1.0, 1.0]; model message: Optimization terminated successfully\n",
      "Выручка: 28000000.0\n",
      "Ограничение на маржу M >= 5400000.0; значение маржи: 5400000.0\n"
     ]
    }
   ],
   "source": [
    "# применение солвера slsqp\n",
    "res_slsqp =\\\n",
    "    scopt.minimize(obj, x0, bounds=x_bounds, constraints=[con_mrg], method='slsqp', args={'scale': 1})\n",
    "print_results(res_slsqp, 'slsqp', M0, R0)"
   ]
  },
  {
   "cell_type": "markdown",
   "id": "015e6d4a",
   "metadata": {},
   "source": [
    "По результатам оптимизации можно выделить 2 основных момента:\n",
    "* методы __COBYLA__ и __trust-constr__ сходятся к одному и тому же решению. Также видно, что выполняются все ограничения (по границам и по марже - с точностью более 7-8 знаков),\n",
    "* __SLSQP__ в данном случае «остался» в начальной точке — это связано с критерием на остановку при достижении определённого уровня изменения целевой функции и градиентов,\n",
    " которые регулируются через параметры ftol и eps в аргументе options.\n",
    "\n",
    "Вообще говоря, в большинстве реализаций солверов производится масштабирование функций к значению порядка 1, что позволяет повысить устойчивость и сходимость методов. Попробуем применить масштабирование в задаче путём деления целевой функции (текущей выручки) на выручку при текущих ценах $R_{0}$."
   ]
  },
  {
   "cell_type": "code",
   "execution_count": 5,
   "id": "92ad379a-103b-41e2-b1c4-bf749de5f39e",
   "metadata": {},
   "outputs": [
    {
     "name": "stdout",
     "output_type": "stream",
     "text": [
      "Решение slsqp: [0.9, 1.0165, 1.1]; model message: Optimization terminated successfully\n",
      "Выручка: 29210742.0\n",
      "Ограничение на маржу M >= 5400000.0; значение маржи: 5399999.0\n"
     ]
    }
   ],
   "source": [
    "# применение солвера slsqp\n",
    "res_slsqp =\\\n",
    "    scopt.minimize(obj, x0, bounds=x_bounds, constraints=[con_mrg], method='slsqp', args={'scale': 1. / R0})\n",
    "print_results(res_slsqp, 'slsqp', M0, R0)"
   ]
  },
  {
   "cell_type": "markdown",
   "id": "9a27fd89",
   "metadata": {},
   "source": [
    "Теперь __SLSQP__ сходится к тому же решению, что и __COBYLA__, __trust-constr__. Не забывайте про масштабирование целевой функции при постановке задачи оптимизации."
   ]
  },
  {
   "cell_type": "markdown",
   "id": "6e996085",
   "metadata": {},
   "source": [
    "### SciPy. Целочисленное программирование."
   ]
  },
  {
   "cell_type": "markdown",
   "id": "5f03be14-59dd-44d2-86b4-fb173f707521",
   "metadata": {},
   "source": [
    "Для решения задач линейного программирования в подмодуле __optimize__ имеется функция [__linprog__](https://docs.scipy.org/doc/scipy/reference/generated/scipy.optimize.linprog.html#scipy.optimize.linprog),\n",
    "начиная с версии SciPy==1.9.0 появилась возможность решения задачи линейного целочисленного программирования с помощью функции [__milp__](https://scipy.github.io/devdocs/reference/generated/scipy.optimize.milp.html) и __linprog__.\n",
    "В качестве солвера для LP(MILP) по умолчанию используется [HiGHS](https://www.maths.ed.ac.uk/hall/HiGHS/) — в нём реализованы симплекс метод (highs-ds) и метод внутренней точки (highs-ipm). При запуске решения по умолчанию выбирается один из методов, возможность задавать метод принудительно также присутствует.\n"
   ]
  },
  {
   "cell_type": "markdown",
   "id": "eea974a4-4e02-4484-86e3-f233c9e1d6a6",
   "metadata": {},
   "source": [
    "<a id='example_2'></a>\n",
    "Для примера рассмотрим небольшую задачку смешанного целочисленного рюкзака, где для наглядности применения метода __linprog__ используем переменные разных типов:\n",
    "\n",
    "\\begin{cases}\n",
    "\\tag{2}\n",
    "x = (x_{1}, x_{2}, x_{3}, x_{4})\n",
    "\\\\\n",
    "\\\\\n",
    "F(x) = 1 \\cdot x_{1} + 2 \\cdot x_{2} + 3 \\cdot x_{3} + 1 \\cdot x_{4} \\to \\max\n",
    "\\\\\n",
    "\\\\\n",
    "3 \\cdot x_1 + 1 \\cdot x_2 + 2 \\cdot x_3 + 2 \\cdot x_4 \\leqslant 7.0\n",
    "\\\\\n",
    "\\\\\n",
    "x_{1} \\in \\{0, 1, 2\\}, x_{2}, x_{3} \\in \\{0, 1\\}, x_{4} \\in [0.0; 0.5]\n",
    "\\end{cases}"
   ]
  },
  {
   "cell_type": "code",
   "execution_count": 6,
   "id": "ed44102b-418a-4ac5-b5ed-1125babb714e",
   "metadata": {
    "pycharm": {
     "name": "#%%\n"
    }
   },
   "outputs": [
    {
     "name": "stdout",
     "output_type": "stream",
     "text": [
      "Решение: x = [1.0, 1.0, 1.0, 0.5], f = 6.5, Optimization terminated successfully. (HiGHS Status 7: Optimal)\n"
     ]
    }
   ],
   "source": [
    "# пример с \"рюкзаком\", у которого типы переменных различаются\n",
    "# так как scipy решет задачу минимизации, не забываем ставить минус для коэффициентов в целевой функции для максимизации\n",
    "c = -np.array([1., 2., 3., 1.])\n",
    "A_ub = np.array([[3., 1., 2., 2.]])\n",
    "b_ub = np.array([7.0])\n",
    "# проставляем индикаторы для типа переменных, 0 - непрерывное, 1 - целое число\n",
    "var_types = [1, 1, 1, 0]\n",
    "# также указываем границы, в том числе и для целочисленных переменных\n",
    "bounds = [(0, 2), (0, 1), (0, 1), (0, 0.5)]\n",
    "res_milp = scopt.linprog(c=c, A_ub=A_ub, b_ub=b_ub, bounds=bounds, integrality=var_types, method='highs')\n",
    "print(f\"Решение: x = {list(np.round(res_milp['x'], 2))}, f = {-res_milp['fun']}, {res_milp['message']}\")"
   ]
  },
  {
   "cell_type": "markdown",
   "id": "2abb9eb6",
   "metadata": {},
   "source": [
    "Как мы видим, задача успешно решена. Попробуем убедиться в правильности, подобрав решение перебором,\n",
    "так как вариантов не так много: для первой переменной 3, второй и третьей — 2, итого 3 * 2 * 2 = 12 вариантов.\n",
    "И, поскольку, решается задача максимизации с положительными коэффициентами в целевой функции, то непрерывную переменную нужно брать «максимальной»,\n",
    " пока не упрёмся либо в ограничение, либо в допустимые границы переменной. В результате перебора необходимо будет отсечь решения, которые нарушают ограничение на сумму, они будут отмечены меткой is_valid=False:"
   ]
  },
  {
   "cell_type": "code",
   "execution_count": 7,
   "id": "465af078",
   "metadata": {},
   "outputs": [
    {
     "name": "stderr",
     "output_type": "stream",
     "text": [
      "objc[13548]: Class WebSwapCGLLayer is implemented in both /System/Library/Frameworks/WebKit.framework/Versions/A/Frameworks/WebCore.framework/Versions/A/Frameworks/libANGLE-shared.dylib (0x7ffa472be3b0) and /Applications/Google Chrome.app/Contents/Frameworks/Google Chrome Framework.framework/Versions/108.0.5359.124/Libraries/libGLESv2.dylib (0x10b42b568). One of the two will be used. Which one is undefined.\n",
      "[1224/115203.013295:INFO:headless_shell.cc(623)] Written to file /var/folders/1k/mrfmxbw16kx35j8m6mpg7vzc0000gn/T/tmpncqr36qb/temp.png.\n"
     ]
    }
   ],
   "source": [
    "# Этот код точно лучше скрыть, а может и вообще стоит оставить проверку оптимальности решения на волю читателя.\n",
    "# реализуем полный перебор\n",
    "import dataframe_image as dfi\n",
    "import itertools\n",
    "import pandas as pd\n",
    "\n",
    "# генерируем всевозможные варианты для целочисленных переменных\n",
    "sols = pd.DataFrame(list(itertools.product([0., 1., 2.], [0., 1.], [0., 1.])), columns=['x1', 'x2', 'x3'])\n",
    "# часть суммы из ограничения, связанная с целочисленными переменными\n",
    "sols['a'] = sols[['x1', 'x2', 'x3']].multiply(np.array([3., 1., 2.]), axis=1).sum(axis=1)\n",
    "# непрерывная переменная формируется по остаточному принципу по ограничению для максимизации целевой функции\n",
    "# здесь же учитываем, что максимальное значение равно 0.5\n",
    "sols['x4'] = np.clip((7.0 - sols['a']) / 2.0, 0.0, 0.5)\n",
    "# подсчет целевой функции и поиск оптимального решения с выводом всех вариантов\n",
    "# где через is_valid обозначены допустимые решения\n",
    "sols['f'] = sols[['x1', 'x2', 'x3', 'x4']].multiply(np.array([1., 2., 3., 1.]), axis=1).sum(axis=1)\n",
    "sols['a'] = sols['a'] + 2 * sols['x4']\n",
    "sols['is_valid'] = sols['a'] <= 7.0\n",
    "i_max = sols[sols['is_valid']]['f'].idxmax()\n",
    "sols = sols[['x1', 'x2', 'x3', 'x4', 'a', 'is_valid', 'f']].transpose()\n",
    "res = sols.style.set_properties(**{'background-color': '#5eae76'}, subset=[i_max]).format(precision=2)\n",
    "dfi.export(res, './images/milp_brute_force.png')"
   ]
  },
  {
   "cell_type": "markdown",
   "id": "5f2d11ee",
   "metadata": {},
   "source": [
    "<img src=\"images/milp_brute_force.png\" alt=\"drawing\" width=\"450\"/>"
   ]
  },
  {
   "cell_type": "markdown",
   "id": "f2dd9776",
   "metadata": {},
   "source": [
    "## Pyomo. Обзор."
   ]
  },
  {
   "cell_type": "markdown",
   "id": "b4519d73",
   "metadata": {},
   "source": [
    "[__Pyomo__](http://www.pyomo.org/) — пакет, который содержит ряд инструментов для формулирования, решения и анализа оптимизационных моделей.\n",
    "Главная особенность — это удобный интерфейс для структурированного формирования оптимизационной задачи и поддержка большого количества солверов, в том числе коммерческих.\n",
    "Pyomo внутри себя преобразует сформулированную модель в формат, понятный для запускаемого солвера.\n",
    "\n",
    "Pyomo входит в проект [COIN-OR](https://www.coin-or.org/), содержащий ряд солверов, среди которых выделим два:\n",
    "\n",
    "[__Ipopt__](https://github.com/coin-or/Ipopt) - находит локальные оптимумы в задаче NLP с помощью прямо-двойственного метода внутренней точки (подробнее в оригинальной [статье](http://www.optimization-online.org/DB_HTML/2004/03/836.html)).\n",
    "\n",
    "[__Cbc__](https://github.com/coin-or/Cbc) - решает задачи MILP, на базе алгоритма, сочетающем в себе метод ветвей и границ и секущих плоскостей (подробнее на [wiki](https://en.wikipedia.org/wiki/Branch_and_cut)).\n",
    "\n",
    "Также для решения задач LP/MILP имеется поддержка пакета [GLPK](https://en.wikipedia.org/wiki/GNU_Linear_Programming_Kit).\n",
    "Отметим ещё один солвер [bonmin](https://github.com/coin-or/Bonmin), который построен на базе солверов __Cbc__ и __Ipopt__, что позволяет браться за задачи __MINLP__.\n",
    "\n",
    "Процесс построения оптимизационной модели в __Pyomo__ состоит из следующих основных этапов:\n",
    "* создание объекта оптимизационной модели,\n",
    "* объявление переменных в этой модели с границами, \n",
    "* формулирование целевой функции, \n",
    "* описание ограничений, \n",
    "* запуск солвера, решающего задачу. \n",
    "\n",
    "Рассмотрим шаги на примере задач [(1)](#example_1) и [(2)](#example_2)."
   ]
  },
  {
   "cell_type": "markdown",
   "id": "f50c60c0",
   "metadata": {},
   "source": [
    "### Pyomo. Применение."
   ]
  },
  {
   "cell_type": "code",
   "execution_count": 8,
   "id": "b75588e0-b834-4633-af4f-7370977d56d1",
   "metadata": {},
   "outputs": [
    {
     "name": "stdout",
     "output_type": "stream",
     "text": [
      "Решение ipopt: [0.9, 1.016, 1.1] optimal\n",
      "Выручка: 29210742.0\n",
      "Ограничение на маржу M >= 5400000.0; значение маржи: 5400000.0\n"
     ]
    }
   ],
   "source": [
    "# пример для задачи (1)\n",
    "import pyomo.environ as pyo\n",
    "\n",
    "# объявление объекта - модели \n",
    "model = pyo.ConcreteModel('model')\n",
    "\n",
    "# задаем переменные, в данном случае они все непрерывные, инициализируем 1.0\n",
    "model.x = pyo.Var(range(N), domain=pyo.Reals, bounds=x_bounds, initialize=1)\n",
    "\n",
    "# объявление целевой функции и передача в модель\n",
    "obj_expr = sum(P0[i] * model.x[i] * Q0[i] * pyo.exp(E[i] * (model.x[i] - 1)) for i in model.x)\n",
    "model.obj = pyo.Objective(expr=obj_expr, sense=pyo.maximize)\n",
    "\n",
    "# объявление ограничения и передача в модель\n",
    "con_expr = sum((P0[i] * model.x[i] - C[i]) * Q0[i] * pyo.exp(E[i] * (model.x[i] - 1)) for i in model.x) >= M0\n",
    "model.con = pyo.Constraint(expr=con_expr)\n",
    "\n",
    "# запуск солвера ipopt для решения поставленной оптимизационной задачи\n",
    "solver = pyo.SolverFactory('ipopt')\n",
    "res = solver.solve(model)\n",
    "\n",
    "# получение ответа - результата решения задачи\n",
    "x_opt = [round(model.x[i].value, 3) for i in model.x]\n",
    "\n",
    "print(f\"Решение ipopt: {list(x_opt)} {res.solver.termination_condition}\")\n",
    "print(f\"Выручка: {round(model.obj(), 0)}\")\n",
    "print(f\"Ограничение на маржу M >= {M0}; значение маржи: {round(model.con(), 0)}\")"
   ]
  },
  {
   "cell_type": "code",
   "execution_count": 9,
   "id": "a6096abb-8e98-4966-ba0a-910974a3ead8",
   "metadata": {},
   "outputs": [
    {
     "name": "stdout",
     "output_type": "stream",
     "text": [
      "Решение: x = [1.0, 1.0, 1.0, 0.5], f = 6.5, optimal\n"
     ]
    }
   ],
   "source": [
    "'''\n",
    "MILP пример с рюкзаком\n",
    "пример с \"рюкзаком\", у которого типы переменных различаются\n",
    "так как в pyomo не реализована возможность указывать в одном векторе значения разных типов\n",
    "то необходимо их описывать отдельно и данные, соответственно, для удобства тоже\n",
    "'''\n",
    "c_i, c_c = np.array([1., 2., 3.]), np.array([1.])\n",
    "A_i, A_c = np.array([3., 1., 2.]), np.array([2.])\n",
    "b = 7.0\n",
    "# объявление объекта - модели \n",
    "model = pyo.ConcreteModel('model')\n",
    "\n",
    "# формирование переменных - отдельно целочисленные и непрерывные\n",
    "bounds_i = [(0.0, 2.0), (0.0, 1.0), (0.0, 1.0)]\n",
    "bounds_c = [(0.0, 0.5)]\n",
    "model.x_i = pyo.Var(range(3), domain=pyo.Integers, bounds=bounds_i)\n",
    "model.x_c = pyo.Var(range(1), domain=pyo.Reals, bounds=bounds_c)\n",
    "\n",
    "# объявление целевой функции и передача в модель для максимизации\n",
    "obj_expr = sum(c_i[i] * model.x_i[i] for i in model.x_i) +\\\n",
    "           sum(c_c[i] * model.x_c[i] for i in model.x_c)\n",
    "model.obj = pyo.Objective(expr=obj_expr, sense=pyo.maximize)\n",
    "\n",
    "# объявление\n",
    "con_expr = sum(A_i[i] * model.x_i[i] for i in model.x_i) +\\\n",
    "           sum(A_c[i] * model.x_c[i] for i in model.x_c) <= b\n",
    "model.con = pyo.Constraint(expr=con_expr)\n",
    "\n",
    "solver = pyo.SolverFactory('glpk')\n",
    "res = solver.solve(model)\n",
    "x_opt = [model.x_i[i].value for i in model.x_i] + [model.x_c[i].value for i in model.x_c]\n",
    "\n",
    "print(f\"Решение: x = {x_opt}, f = {model.obj()}, {res.solver.termination_condition}\")"
   ]
  },
  {
   "cell_type": "markdown",
   "id": "c12b0d8e",
   "metadata": {},
   "source": [
    "Видим, что солвер справился с обозначенными задачами и выдал результаты, аналогичные пакетам **SciPy**."
   ]
  },
  {
   "cell_type": "markdown",
   "id": "5b571c5e",
   "metadata": {},
   "source": [
    "### Pyomo. Дополнительные особенности."
   ]
  },
  {
   "cell_type": "markdown",
   "id": "ecedb74f-58f6-48de-bbca-bd9a7b59f81c",
   "metadata": {},
   "source": [
    "Из дополнительного можно отметить, что Pyomo имеет подмодуль __GDP__ [(Generalized Disjunctive Programming)](https://pyomo.readthedocs.io/en/stable/modeling_extensions/gdp/index.html), который позволяет моделировать логические правила и задавать ограничения,\n",
    "которые должны при этом выполняться. Например, в простейшем случае, данный подход может быть применён, когда необходимо выбрать одно из действий,\n",
    "каждое из которых описывается своей системой ограничений. Разберём, чем может быть полезен данный подход на примере следующей задачи:"
   ]
  },
  {
   "cell_type": "markdown",
   "id": "d6d5ea6c-c27d-4c0b-bb88-2a9f0a18dfbf",
   "metadata": {},
   "source": [
    "<a id='example_3'></a>\n",
    "\\begin{cases}\n",
    "\\tag{3}\n",
    "f_1(x_1) = x_1^2\n",
    "\\\\\n",
    "f_2(x_2) = (x_2 - 1) ^ 2\n",
    "\\\\\n",
    "f_3(x_3) = (x_3 + 2) ^ 2\n",
    "\\\\\n",
    "F(x_1, x_2, x_3) = f_1(x_1) + f_2(x_2) + f_3(x_3)\n",
    "\\\\\n",
    "x_i \\in [-3; -1.5 ] \\cup \\{0\\} \\cup [ 1.5; 3] , \\ i = 1..3\n",
    "\\end{cases}\n",
    "\n",
    "Как несложно заметить, здесь в определении области переменных есть «разрыв», который тривиальным образом описать невозможно,\n",
    "необходимо вводить условие на то, в какой из трёх областей $[-3; -1.5 ], \\{0\\}, [ 1.5; 3]$ необходимо производить поиск решения.\n",
    "Так как исходная функция $F$ является суммой независимых друг от друга функций, то минимум $F$ достигается в минимуме каждой из функций $f_i$.\n",
    "Отобразим графики с учётом условий на $x$: можно видеть, что $f_1$ достигает своего минимума в $x_1 = 0.0$, $f_2$ в $x_2=1.5$, $f_3$ в $x_3=-2.0$.\n"
   ]
  },
  {
   "cell_type": "code",
   "execution_count": 10,
   "id": "a7d1800b",
   "metadata": {},
   "outputs": [
    {
     "data": {
      "image/png": "[encoded data removed]",
      "text/plain": [
       "<Figure size 576x360 with 1 Axes>"
      ]
     },
     "metadata": {
      "needs_background": "light"
     },
     "output_type": "display_data"
    }
   ],
   "source": [
    "# Скрыть код\n",
    "import matplotlib.pyplot as plt\n",
    "\n",
    "def parabola(x, a):\n",
    "    return (x - a) ** 2\n",
    "\n",
    "l, m, r = [-3.0, -1.5], 0.0, [1.5, 3.0]\n",
    "x_i = [np.linspace(l[0], l[1], 20), np.array([m]), np.linspace(r[0], r[1], 20), np.linspace(l[1], r[0], 20)]\n",
    "f_1 = [parabola(x_, 0.0) for x_ in x_i]\n",
    "f_2 = [parabola(x_, 1.0) for x_ in x_i]\n",
    "f_3 = [parabola(x_, -2.0) for x_ in x_i]\n",
    "f_s = [f_1[i] + f_2[i] + f_3[i] for i in range(4)]\n",
    "x_min = [0.0, 1.5, -2.0]\n",
    "colors = ['tab:blue', 'tab:orange', 'tab:green']\n",
    "labels = [r'$f_1$', r'$f_2$', r'$f_3$']\n",
    "\n",
    "plt.figure(figsize=(8, 5))\n",
    "\n",
    "for f_v, lbl, c in zip([f_1, f_2, f_3], labels, colors):\n",
    "    plt.plot(x_i[0], f_v[0], c=c, label=lbl, lw=2.0)\n",
    "    plt.plot(x_i[2], f_v[2], c=c, lw=2.0)\n",
    "    x_pt = [x_i[0][0], x_i[0][-1], x_i[1][0], x_i[2][0], x_i[2][-1]]\n",
    "    f_pt = [f_v[0][0], f_v[0][-1], f_v[1][0], f_v[2][0], f_v[2][-1]]\n",
    "    plt.scatter(x_pt, f_pt, c=c)\n",
    "    plt.plot(x_i[3], f_v[3], linestyle='--', c=c, lw=2.0) \n",
    "plt.grid()\n",
    "plt.legend()\n",
    "plt.show()\n"
   ]
  },
  {
   "cell_type": "markdown",
   "id": "b51ef44b",
   "metadata": {},
   "source": [
    "Процесс формирования оптимизационной модели для задачи [(3)](#example_3) концептуально похож на тот, что был для задач [(1)](#example_1) и [(2)](#example_2).\n",
    "Опишем его кодом ниже, снабдив необходимыми комментариями:"
   ]
  },
  {
   "cell_type": "code",
   "execution_count": 11,
   "id": "dcd43ce7-4624-4822-b694-af7df636c99e",
   "metadata": {},
   "outputs": [
    {
     "name": "stdout",
     "output_type": "stream",
     "text": [
      "Решение: [-0.0, 1.5, -2.0] , f = 0.25\n"
     ]
    }
   ],
   "source": [
    "# решение задачи о рюкзаке с помощью pyomo\n",
    "import pyomo.environ as pyo\n",
    "from pyomo.gdp import Disjunction\n",
    "\n",
    "# формирование объекта модели pyomo\n",
    "model = pyo.ConcreteModel('gdp_sample')\n",
    "# общий диапазон для всех переменных [-3.0, 3.0]\n",
    "model.x = pyo.Var(range(0, 3), domain=pyo.Reals, bounds=(-3., 3.))\n",
    "\n",
    "# задание целевой функции\n",
    "a = [0.0, 1.0, -2.0]\n",
    "obj_expr = sum((model.x[i] - a[i]) ** 2 for i in model.x)\n",
    "model.obj = pyo.Objective(expr=obj_expr, sense=pyo.minimize)\n",
    "\n",
    "# формирование правил для диапазонов поиска переменных с помощью функции Disjunction.\n",
    "# в объекте Disjunction необходимо перечислить условия в виде ограничений\n",
    "# всего у нас три переменных, поэтому задаем три группы условий, в каждой из которых будет выполняться только одно\n",
    "model.djn = Disjunction(range(3))\n",
    "\n",
    "# непосредственно задание условий для каждой из переменных\n",
    "for i in range(3):\n",
    "    model.djn[i] = [model.x[i] <= -1.5, model.x[i] == 0, model.x[i] >= 1.5]\n",
    "\n",
    "'''\n",
    "Перед началом решения необходимо произвести преобразование модели для дальнейшей передачи в солвер.\n",
    "В данном случае преобразование произведем т.н. методом big-M, который позволяет\n",
    "перекодировать логические условия в алгебраические,\n",
    "сводя задачу к MINLP. Более подробно, как устроен метод и пример формирования условий руками рассмотрим в следующей статье.\n",
    "Здесь ниже оставим ссылку для ознакомления с подходом.\n",
    "'''\n",
    "pyo.TransformationFactory('gdp.bigm').apply_to(model)\n",
    "solver = pyo.SolverFactory('bonmin')\n",
    "res = solver.solve(model)\n",
    "x_opt = [round(model.x[i].value, 3) for i in model.x]\n",
    "print('Решение:', x_opt, ', f =', round(model.obj(), 2))\n"
   ]
  },
  {
   "cell_type": "markdown",
   "id": "01a19fcb",
   "metadata": {},
   "source": [
    "Как видим, решение для $x$ совпадает с ожидаемым. А вот [ссылка](https://en.wikipedia.org/wiki/Big_M_method) на метод big-M."
   ]
  },
  {
   "cell_type": "markdown",
   "id": "2b5193f9",
   "metadata": {},
   "source": [
    "## CVXPY. Обзор."
   ]
  },
  {
   "cell_type": "markdown",
   "id": "3ddbd836",
   "metadata": {},
   "source": [
    "[__CVXPY__](https://www.cvxpy.org/index.html) - данный пакет был реализован для решения задач [выпуклой оптимизации](https://en.wikipedia.org/wiki/Convex_optimization).\n",
    "\n",
    "Для решения задачи, по аналогии с __Pyomo__, необходимо выполнить несколько шагов: определить переменные, задать целевую функцию и ограничения для формирования объекта оптимизационной задачи. После того, как задача сформулирована, перед запуском солвера проверяется выпуклость целевой функции и ограничений с помощью правил [DCP](https://www.cvxpy.org/tutorial/dcp/index.html)\n",
    "(Disciplined Convex Programming). По сути, это набор правил, которые однозначно гарантируют выпуклость функции, здесь стоит отметить, что эти правила — необходимые условия, но не достаточные, почему это так рассмотрим в примере ниже.\n",
    "После проверки задача преобразуется для передачи солверу в формат, поддерживающий решение задач выпуклой оптимизации, в том числе __CVXPY__ поддерживает коммерческие солверы.\n",
    "Полный список солверов можно посмотреть на этой [странице](https://www.cvxpy.org/tutorial/advanced/index.html), там же указаны все типы задач, которые позволяет решать __CVXPY__. Обратим внимание, что для данного пакета не так важно наличие непрерывности первой и второй производной, важна только выпуклость.\n",
    "Также по аналогии с предыдущими пакетами рассмотрим применение __CVXPY__ на примерах."
   ]
  },
  {
   "cell_type": "markdown",
   "id": "ef3d7b2d",
   "metadata": {},
   "source": [
    "### CVXPY. Непрерывное моделирование."
   ]
  },
  {
   "cell_type": "markdown",
   "id": "01599c40",
   "metadata": {},
   "source": [
    "Задачу [(1)](#example_1) с помощью __CVXPY__ решить не удастся, так как целевая функция и ограничения в общем случае не являются выпуклыми и, соответственно, не подчиняются правилам DCP.\n",
    "Целевая функция состоит из суммы слагаемых вида $f(x) = x e^{E(x-1)}$, вторая производная которой равна $f''(x) = E x e^{E(x-1)}(Ex + 2)$ и меняет свой знак в точке $x_{0} = \\frac{-2}{E} = \\frac{2}{|E|}$ (с учётом того, что $E \\leqslant 0$) - то есть в общем случае не является выпуклой.\n",
    "\n",
    "Рассмотрим другой пример: необходимо добраться из точки с координатами (0, 0) в точку (1, 2), область разделена на две части вдоль линии y = 1; до y = 1 максимальная скорость равна 1, а после в k (в примере k=1.5) раз меньше.\n",
    "Очевидно, что самый быстрый путь — это движение по прямой линии с максимально скоростью на каждом из участков, при этом на границе не должно быть «разрывов» траектории.\n",
    "В таком случае оптимизационную задачу можно сформулировать следующим образом:\n",
    "\\begin{cases}\n",
    "\\tag{4}\n",
    "T = \\sqrt{(x-x_{1})^2 + (y-y_{1})^2} + k \\cdot \\sqrt{(x-x_{2})^2 + (y-y_{2})^2} \\to min,\n",
    "\\\\\n",
    "x_{1} = 0,\\ y_{1} = 0,\\ x_{2} = 1,\\ y_{2} = 2,\n",
    "\\\\\n",
    "y = 1\n",
    "\\\\\n",
    "x \\in [0; 2]\n",
    "\\end{cases}\n",
    "Здесь в $T$ — первое и второе слагаемые — это путь по прямой от начальной/конечной точки до точки на границе, делённый на скорость, другими словами — время, затрачиваемое прохождение пути на 1-ом и 2-ом участках. Каждое из слагаемых является выпуклой функцией, а значит и их сумма тоже."
   ]
  },
  {
   "cell_type": "markdown",
   "id": "ffd9d03c",
   "metadata": {
    "tags": []
   },
   "source": [
    "<img src=\"images/cvxpy_example.png\" alt=\"drawing\" width=\"1050\"/>"
   ]
  },
  {
   "cell_type": "code",
   "execution_count": 12,
   "id": "d440cfb3",
   "metadata": {},
   "outputs": [
    {
     "name": "stdout",
     "output_type": "stream",
     "text": [
      "is dcp: False\n"
     ]
    }
   ],
   "source": [
    "# решение задачи с разрывом в области определения с помощью cvxpy\n",
    "import cvxpy as cp\n",
    "\n",
    "X1, Y1 = 0.0, 0.0\n",
    "X2, Y2 = 1.0, 2.0\n",
    "K = 1.5\n",
    "\n",
    "# задаем одну переменную x\n",
    "X = cp.Variable(1)\n",
    "Y_ = 1.0\n",
    "\n",
    "# целевая функция - корни из суммы квадратов - являются выпуклыми\n",
    "objective = cp.sqrt(cp.square(X - X1) + cp.square(Y_ - Y1) ** 2) +\\\n",
    "            cp.sqrt(cp.square(X2 - X) + cp.square(Y2 - Y_) ** 2)\n",
    "\n",
    "# здесь единственное ограничение - это диапазон для x\n",
    "constraints = []\n",
    "constraints.extend([X >= 0.0, X <= X2])\n",
    "\n",
    "# объявляем оптимизационную задачу, здесь берем минимизацию целевой функции\n",
    "problem = cp.Problem(cp.Minimize(objective), constraints)\n",
    "\n",
    "# совершаем проверку задачи на выпуклость согласно правилам DCP\n",
    "print(f\"is dcp: {problem.is_dcp()}\")"
   ]
  },
  {
   "cell_type": "markdown",
   "id": "1ed03737",
   "metadata": {},
   "source": [
    "Как мы видим, задача не прошла проверку на выпуклость согласно правилам DCP, так как берётся вогнутая функция(квадратный корень) от выпуклой,\n",
    "но данная проблема решается просто вызовом функции norm для расчёта длины вектора (в нашем контексте расстояние), про которую __CVXPY__ известно, что она является выпуклой.\n",
    "В модуле есть также ещё дополнительный набор функций, которые не подчиняются DCP, но при этом выпуклые, например, log_sum_exp - логарифм от суммы экспонент.\n",
    "Такие моменты необходимо учитывать при формулировке задач."
   ]
  },
  {
   "cell_type": "code",
   "execution_count": 13,
   "id": "d63b3f36-71cd-4f7e-906f-fa3af80f410f",
   "metadata": {},
   "outputs": [
    {
     "name": "stdout",
     "output_type": "stream",
     "text": [
      "is dcp: True\n",
      "Решение: x = 0.623, f = 2.78\n"
     ]
    }
   ],
   "source": [
    "# скорректируем целевую функцию через вызов norm\n",
    "objective = cp.norm(cp.hstack([X - X1, Y_ - Y1]), 2) + K * cp.norm(cp.hstack([X2 - X, Y2 - Y_]), 2)\n",
    "\n",
    "# формируем ограничения и формируем задачу\n",
    "constraints = []\n",
    "constraints.extend([X >= 0.0, X <= X2])\n",
    "problem = cp.Problem(cp.Minimize(objective), constraints)\n",
    "\n",
    "# проверка на выпуклость\n",
    "print(f\"is dcp: {problem.is_dcp()}\")\n",
    "\n",
    "# решаем задачу путем вызова солвера ECOS\n",
    "sol = problem.solve('ECOS')\n",
    "\n",
    "# извлекаем решение\n",
    "x_opt = X.value[0]\n",
    "print(f\"Решение: x = {round(x_opt, 3)}, f = {round(sol, 2)}\")"
   ]
  },
  {
   "cell_type": "code",
   "execution_count": null,
   "id": "5dd75c3d",
   "metadata": {},
   "outputs": [],
   "source": [
    "Получили решение, которое совпадает с тем что изображен на графике. "
   ]
  },
  {
   "cell_type": "markdown",
   "id": "529a0538",
   "metadata": {},
   "source": [
    "### CVXPY. Целочисленное моделирование."
   ]
  },
  {
   "cell_type": "markdown",
   "id": "bdece4ab",
   "metadata": {},
   "source": [
    "Также разберём, как решается задача [(2)](#example_2) с помощью __CVXPY__, так как пакет позволяет решать задачи LP (MILP):"
   ]
  },
  {
   "cell_type": "code",
   "execution_count": 14,
   "id": "5db007e8-487c-4493-9df5-171e8c1e0ea2",
   "metadata": {},
   "outputs": [
    {
     "name": "stdout",
     "output_type": "stream",
     "text": [
      "Решение: x = [1.0, 1.0, 1.0, 0.5], f = 6.5, optimal\n"
     ]
    }
   ],
   "source": [
    "# объявление переменных, отдельно целочисленных и непрерывных\n",
    "x_i = cp.Variable(3, integer=True)\n",
    "x_c = cp.Variable(1, nonneg=True)\n",
    "\n",
    "# коэффициенты для целевой функции и ограничений\n",
    "c = np.array([1., 2., 3., 1.])\n",
    "A = np.array([3., 1., 2., 2.])\n",
    "b = 7.0\n",
    "\n",
    "# максимизация функции - сумма по целочисленной и непрерывной части переменных\n",
    "obj = cp.Maximize(cp.sum(c[:3] @ x_i) + cp.sum(c[3:4] @ x_c))\n",
    "\n",
    "# ограничения на диапазон и на общую сумму\n",
    "cons = [\n",
    "    x_i[0] <= 2, x_i[1] <= 1, x_i[2] <= 1,\n",
    "    x_c <= 1,\n",
    "    ((A[:3] @ x_i) + (A[3:4] @ x_c)) <= b\n",
    "]\n",
    "\n",
    "# формирование задачи и ее решение\n",
    "prb = cp.Problem(obj, cons)\n",
    "sol = prb.solve(verbose=False, solver='GLPK_MI')\n",
    "x_opt = np.concatenate([x_i.value, x_c.value])\n",
    "\n",
    "print(f\"Решение: x = {list(np.round(x_opt, 2))}, f = {sol}, {prb.status}\")"
   ]
  },
  {
   "cell_type": "markdown",
   "id": "fe255160",
   "metadata": {},
   "source": [
    "Здесь также наблюдаем полное совпадение решения с предыдущими пакетами."
   ]
  },
  {
   "cell_type": "markdown",
   "id": "46b0b1bb",
   "metadata": {},
   "source": [
    "## Заключение"
   ]
  },
  {
   "cell_type": "markdown",
   "id": "7013f922",
   "metadata": {
    "pycharm": {
     "name": "#%% md\n"
    }
   },
   "source": [
    "В данной статье мы познакомились с несколькими open-source библиотеками для решения оптимизационных задач. Здесь мы по большей части акцентировали свое внимание на применение методов, но совсем не касались вопросов производительности - это как правило связано с постановкой исходной задачи, количества переменых, ограничений и т.п. Замер производительности на конкретном виде задач для разных солверов произведем в следующей статье. Здесь же приведем некоторые рекомендации с чего можно начать исходя из нашего опыта. \n",
    "Если в задаче NLP первые и вторые производные являются гладкими, то здесь хорошо себя зарекомендовал себя ipopt в пакете pyomo. Если в NLP функции негладкие, но выпуклые, то для решения задачи подойдет cvxpy. Scipy хорошо справляется с небольшими задачами, а cobyla можно использовать для задач без градиента целевой функции. Для задачи MILP конкурирующими являются солверы glpk, cbc, highs - здесь заранее сказать какой из них будет более производительным для нашей задачи непросто, надо пробовать, перебирать. Scipy - с точки зрения интерфейса не очень удобен, особенно, если имеются сложные ограничения, Pyomo, Cvxpy - более удобные в этом плане, но с этим надо мириться, особенно, если highs окажется более эффективным для вашей задачи. Еще одно из удобств pyomo и cvxpy, так это то, что при необходимости их можно пересадить на коммерческие солверы, которые могут оказаться наиболее продуктивными.\n",
    "\n",
    "Подводя итог, составим таблицу рассмотренных в статье пакетов и того, какие типы задач они позволяют решают:\n",
    "\n",
    "|  Пакеты в Python  |     Солвер(метод)    | NLP | LP | MILP | MINLP |\n",
    "|-------------------|----------------------|-----|----|------|-------|\n",
    "| SciPy             | COBYLA               | +   | -  | -    | -     |\n",
    "| SciPy             | SLSQP                | +   | -  | -    | -     |\n",
    "| SciPy             | trust-constr         | +   | -  | -    | -     |\n",
    "| SciPy             | highs                | +   | +  | +    | -     |\n",
    "| Pyomo             | Ipopt                | +   | +  | -    | -     |\n",
    "| Pyomo, cvxpy      | GLPK                 | -   | +  | +    | -     |\n",
    "| Pyomo, cvxpy      | Cbc                  | -   | +  | +    | -     |\n",
    "| CVXPY             | Ecos                 | +-  | +  | +    | -     |\n",
    "| Pyomo             | Bonmin               | +   | +  | +    | +     |\n",
    "\n"
   ]
  }
 ],
 "metadata": {
  "celltoolbar": "Необработанный формат ячейки",
  "kernelspec": {
   "display_name": "opt_conda_env",
   "language": "python",
   "name": "opt_conda_env"
  },
  "language_info": {
   "codemirror_mode": {
    "name": "ipython",
    "version": 3
   },
   "file_extension": ".py",
   "mimetype": "text/x-python",
   "name": "python",
   "nbconvert_exporter": "python",
   "pygments_lexer": "ipython3",
   "version": "3.8.15"
  }
 },
 "nbformat": 4,
 "nbformat_minor": 5
}
